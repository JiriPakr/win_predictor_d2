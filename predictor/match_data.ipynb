{
 "cells": [
  {
   "cell_type": "code",
   "execution_count": 2,
   "metadata": {},
   "outputs": [],
   "source": [
    "# resources:\n",
    "# https://docs.opendota.com/#section/Introduction\n",
    "# https://github.com/kronusme/dota2-api/blob/master/data/heroes.json"
   ]
  },
  {
   "cell_type": "code",
   "execution_count": 3,
   "metadata": {},
   "outputs": [],
   "source": [
    "## gamemode 22 - ranked matchmaking"
   ]
  },
  {
   "cell_type": "code",
   "execution_count": 4,
   "metadata": {},
   "outputs": [],
   "source": [
    "import numpy as np\n",
    "import pandas as pd\n",
    "import csv\n",
    "import json\n",
    "import hashlib"
   ]
  },
  {
   "cell_type": "code",
   "execution_count": 5,
   "metadata": {},
   "outputs": [
    {
     "data": {
      "text/plain": [
       "<module 'utils' from 'c:\\\\Jiri\\\\Code\\\\Python_ml_2\\\\ML_DOTA2_MATCH_WIN\\\\utils.py'>"
      ]
     },
     "execution_count": 5,
     "metadata": {},
     "output_type": "execute_result"
    }
   ],
   "source": [
    "import importlib\n",
    "import matchrequest\n",
    "import utils\n",
    "importlib.reload(matchrequest)\n",
    "importlib.reload(utils)"
   ]
  },
  {
   "cell_type": "code",
   "execution_count": 6,
   "metadata": {},
   "outputs": [
    {
     "name": "stdout",
     "output_type": "stream",
     "text": [
      "{'match_id': 7208840505, 'barracks_status_dire': 63, 'barracks_status_radiant': 0, 'chat': None, 'cluster': 192, 'cosmetics': None, 'dire_score': 62, 'dire_team_id': None, 'draft_timings': None, 'duration': 2198, 'engine': 1, 'first_blood_time': 6, 'game_mode': 22, 'human_players': 10, 'leagueid': 0, 'lobby_type': 7, 'match_seq_num': 6060544887, 'negative_votes': 0, 'objectives': None, 'picks_bans': [{'is_pick': True, 'hero_id': 14, 'team': 1, 'order': 0}, {'is_pick': True, 'hero_id': 105, 'team': 1, 'order': 1}, {'is_pick': True, 'hero_id': 20, 'team': 0, 'order': 2}, {'is_pick': True, 'hero_id': 31, 'team': 0, 'order': 3}, {'is_pick': True, 'hero_id': 113, 'team': 0, 'order': 4}, {'is_pick': True, 'hero_id': 51, 'team': 0, 'order': 5}, {'is_pick': True, 'hero_id': 104, 'team': 1, 'order': 6}, {'is_pick': True, 'hero_id': 75, 'team': 1, 'order': 7}, {'is_pick': True, 'hero_id': 34, 'team': 1, 'order': 8}, {'is_pick': True, 'hero_id': 46, 'team': 0, 'order': 9}, {'is_pick': False, 'hero_id': 32, 'team': 0, 'order': 10}, {'is_pick': False, 'hero_id': 102, 'team': 0, 'order': 11}, {'is_pick': False, 'hero_id': 34, 'team': 0, 'order': 12}, {'is_pick': False, 'hero_id': 21, 'team': 0, 'order': 13}, {'is_pick': False, 'hero_id': 14, 'team': 0, 'order': 14}, {'is_pick': False, 'hero_id': 3, 'team': 1, 'order': 15}, {'is_pick': False, 'hero_id': 126, 'team': 1, 'order': 16}], 'positive_votes': 0, 'radiant_gold_adv': None, 'radiant_score': 41, 'radiant_team_id': None, 'radiant_win': False, 'radiant_xp_adv': None, 'skill': None, 'start_time': 1687293510, 'teamfights': None, 'tower_status_dire': 1975, 'tower_status_radiant': 0, 'version': None, 'replay_salt': 1702394686, 'series_id': 0, 'series_type': 0, 'players': [{'match_id': 7208840505, 'player_slot': 0, 'ability_targets': None, 'ability_upgrades_arr': [5122, 5124, 5122, 5124, 5122, 5125, 5122, 5124, 5123, 1067, 5124, 5125, 5123, 5123, 6978, 5123], 'ability_uses': None, 'account_id': None, 'actions': None, 'additional_units': None, 'assists': 20, 'backpack_0': 0, 'backpack_1': 0, 'backpack_2': 0, 'backpack_3': None, 'buyback_log': None, 'camps_stacked': None, 'connection_log': None, 'creeps_stacked': None, 'damage': None, 'damage_inflictor': None, 'damage_inflictor_received': None, 'damage_taken': None, 'damage_targets': None, 'deaths': 13, 'denies': 0, 'dn_t': None, 'firstblood_claimed': None, 'gold': 883, 'gold_per_min': 268, 'gold_reasons': None, 'gold_spent': 8535, 'gold_t': None, 'hero_damage': 16690, 'hero_healing': 125, 'hero_hits': None, 'hero_id': 20, 'item_0': 215, 'item_1': 34, 'item_2': 92, 'item_3': 29, 'item_4': 162, 'item_5': 232, 'item_neutral': 680, 'item_uses': None, 'kill_streaks': None, 'killed': None, 'killed_by': None, 'kills': 2, 'kills_log': None, 'lane_pos': None, 'last_hits': 24, 'leaver_status': 0, 'level': 17, 'lh_t': None, 'life_state': None, 'max_hero_hit': None, 'multi_kills': None, 'net_worth': 9188, 'obs': None, 'obs_left_log': None, 'obs_log': None, 'obs_placed': None, 'party_id': 0, 'party_size': 2, 'performance_others': None, 'permanent_buffs': [{'permanent_buff': 12, 'stack_count': 0, 'grant_time': 1939}], 'pings': None, 'pred_vict': None, 'purchase': None, 'purchase_log': None, 'randomed': None, 'repicked': None, 'roshans_killed': None, 'rune_pickups': None, 'runes': None, 'runes_log': None, 'sen': None, 'sen_left_log': None, 'sen_log': None, 'sen_placed': None, 'stuns': None, 'teamfight_participation': None, 'times': None, 'tower_damage': 0, 'towers_killed': None, 'xp_per_min': 476, 'xp_reasons': None, 'xp_t': None, 'radiant_win': False, 'start_time': 1687293510, 'duration': 2198, 'cluster': 192, 'lobby_type': 7, 'game_mode': 22, 'is_contributor': False, 'patch': 52, 'region': 9, 'isRadiant': True, 'win': 0, 'lose': 1, 'total_gold': 9817, 'total_xp': 17437, 'kills_per_min': 0.0545950864422202, 'kda': 1, 'abandons': 0, 'rank_tier': None, 'is_subscriber': False, 'cosmetics': [], 'benchmarks': {'gold_per_min': {'raw': 268, 'pct': 0.15789473684210525}, 'xp_per_min': {'raw': 476, 'pct': 0.5263157894736842}, 'kills_per_min': {'raw': 0.0545950864422202, 'pct': 0.2631578947368421}, 'last_hits_per_min': {'raw': 0.6551410373066424, 'pct': 0.21052631578947367}, 'hero_damage_per_min': {'raw': 455.5959963603276, 'pct': 0.5263157894736842}, 'hero_healing_per_min': {'raw': 3.4121929026387625, 'pct': 0.8947368421052632}, 'tower_damage': {'raw': 0, 'pct': 0.05263157894736842}, 'stuns_per_min': {'raw': 0, 'pct': 0}, 'lhten': {}}}, {'match_id': 7208840505, 'player_slot': 1, 'ability_targets': None, 'ability_upgrades_arr': [5679, 5677, 5677, 5679, 5677, 5683, 5677, 5679, 5679, 7120, 5678, 5683, 5678, 5678, 7104, 5678, 5683], 'ability_uses': None, 'account_id': 885252131, 'actions': None, 'additional_units': [{'unitname': '', 'item_0': 1466, 'item_1': 65, 'item_2': 48, 'item_3': 20, 'item_4': 170, 'item_5': 75, 'backpack_0': 34, 'backpack_1': 0, 'backpack_2': 0, 'item_neutral': 0}], 'assists': 7, 'backpack_0': 34, 'backpack_1': 0, 'backpack_2': 0, 'backpack_3': None, 'buyback_log': None, 'camps_stacked': None, 'connection_log': None, 'creeps_stacked': None, 'damage': None, 'damage_inflictor': None, 'damage_inflictor_received': None, 'damage_taken': None, 'damage_targets': None, 'deaths': 14, 'denies': 6, 'dn_t': None, 'firstblood_claimed': None, 'gold': 836, 'gold_per_min': 501, 'gold_reasons': None, 'gold_spent': 14050, 'gold_t': None, 'hero_damage': 22730, 'hero_healing': 0, 'hero_hits': None, 'hero_id': 113, 'item_0': 1466, 'item_1': 65, 'item_2': 48, 'item_3': 20, 'item_4': 170, 'item_5': 75, 'item_neutral': 1124, 'item_uses': None, 'kill_streaks': None, 'killed': None, 'killed_by': None, 'kills': 8, 'kills_log': None, 'lane_pos': None, 'last_hits': 158, 'leaver_status': 0, 'level': 19, 'lh_t': None, 'life_state': None, 'max_hero_hit': None, 'multi_kills': None, 'net_worth': 14596, 'obs': None, 'obs_left_log': None, 'obs_log': None, 'obs_placed': None, 'party_id': 0, 'party_size': 2, 'performance_others': None, 'permanent_buffs': [], 'pings': None, 'pred_vict': None, 'purchase': None, 'purchase_log': None, 'randomed': None, 'repicked': None, 'roshans_killed': None, 'rune_pickups': None, 'runes': None, 'runes_log': None, 'sen': None, 'sen_left_log': None, 'sen_log': None, 'sen_placed': None, 'stuns': None, 'teamfight_participation': None, 'times': None, 'tower_damage': 177, 'towers_killed': None, 'xp_per_min': 545, 'xp_reasons': None, 'xp_t': None, 'personaname': 'Мира ♡', 'name': None, 'last_login': None, 'radiant_win': False, 'start_time': 1687293510, 'duration': 2198, 'cluster': 192, 'lobby_type': 7, 'game_mode': 22, 'is_contributor': False, 'patch': 52, 'region': 9, 'isRadiant': True, 'win': 0, 'lose': 1, 'total_gold': 18353, 'total_xp': 19965, 'kills_per_min': 0.2183803457688808, 'kda': 1, 'abandons': 0, 'rank_tier': 35, 'is_subscriber': False, 'cosmetics': [], 'benchmarks': {'gold_per_min': {'raw': 501, 'pct': 0}, 'xp_per_min': {'raw': 545, 'pct': 0}, 'kills_per_min': {'raw': 0.2183803457688808, 'pct': 0.3333333333333333}, 'last_hits_per_min': {'raw': 4.313011828935396, 'pct': 0}, 'hero_damage_per_min': {'raw': 620.4731574158326, 'pct': 0}, 'hero_healing_per_min': {'raw': 0, 'pct': 1}, 'tower_damage': {'raw': 177, 'pct': 0}, 'stuns_per_min': {'raw': 0, 'pct': 0}, 'lhten': {}}}, {'match_id': 7208840505, 'player_slot': 2, 'ability_targets': None, 'ability_upgrades_arr': [5237, 5238, 5237, 5239, 5237, 5240, 5237, 5239, 5239, 5239, 5240, 850, 5238, 5238, 6512, 5238, 5240], 'ability_uses': None, 'account_id': 198219602, 'actions': None, 'additional_units': None, 'assists': 16, 'backpack_0': 947, 'backpack_1': 0, 'backpack_2': 0, 'backpack_3': None, 'buyback_log': None, 'camps_stacked': None, 'connection_log': None, 'creeps_stacked': None, 'damage': None, 'damage_inflictor': None, 'damage_inflictor_received': None, 'damage_taken': None, 'damage_targets': None, 'deaths': 16, 'denies': 11, 'dn_t': None, 'firstblood_claimed': None, 'gold': 214, 'gold_per_min': 404, 'gold_reasons': None, 'gold_spent': 11885, 'gold_t': None, 'hero_damage': 19565, 'hero_healing': 0, 'hero_hits': None, 'hero_id': 51, 'item_0': 36, 'item_1': 137, 'item_2': 692, 'item_3': 4, 'item_4': 3, 'item_5': 50, 'item_neutral': 358, 'item_uses': None, 'kill_streaks': None, 'killed': None, 'killed_by': None, 'kills': 8, 'kills_log': None, 'lane_pos': None, 'last_hits': 106, 'leaver_status': 0, 'level': 18, 'lh_t': None, 'life_state': None, 'max_hero_hit': None, 'multi_kills': None, 'net_worth': 11614, 'obs': None, 'obs_left_log': None, 'obs_log': None, 'obs_placed': None, 'party_id': 1, 'party_size': 2, 'performance_others': None, 'permanent_buffs': [{'permanent_buff': 5, 'stack_count': 38, 'grant_time': 2114}], 'pings': None, 'pred_vict': None, 'purchase': None, 'purchase_log': None, 'randomed': None, 'repicked': None, 'roshans_killed': None, 'rune_pickups': None, 'runes': None, 'runes_log': None, 'sen': None, 'sen_left_log': None, 'sen_log': None, 'sen_placed': None, 'stuns': None, 'teamfight_participation': None, 'times': None, 'tower_damage': 0, 'towers_killed': None, 'xp_per_min': 503, 'xp_reasons': None, 'xp_t': None, 'personaname': 'gg', 'name': None, 'last_login': None, 'radiant_win': False, 'start_time': 1687293510, 'duration': 2198, 'cluster': 192, 'lobby_type': 7, 'game_mode': 22, 'is_contributor': False, 'patch': 52, 'region': 9, 'isRadiant': True, 'win': 0, 'lose': 1, 'total_gold': 14799, 'total_xp': 18426, 'kills_per_min': 0.2183803457688808, 'kda': 1, 'abandons': 0, 'rank_tier': 34, 'is_subscriber': False, 'cosmetics': [], 'benchmarks': {'gold_per_min': {'raw': 404, 'pct': 0.5}, 'xp_per_min': {'raw': 503, 'pct': 0.36666666666666664}, 'kills_per_min': {'raw': 0.2183803457688808, 'pct': 0.9}, 'last_hits_per_min': {'raw': 2.8935395814376705, 'pct': 0.7333333333333333}, 'hero_damage_per_min': {'raw': 534.0764331210191, 'pct': 0.5666666666666667}, 'hero_healing_per_min': {'raw': 0, 'pct': 0.6333333333333333}, 'tower_damage': {'raw': 0, 'pct': 0.3333333333333333}, 'stuns_per_min': {'raw': 0, 'pct': 0}, 'lhten': {}}}, {'match_id': 7208840505, 'player_slot': 3, 'ability_targets': None, 'ability_upgrades_arr': [5196, 5194, 5194, 5196, 5194, 5195, 5194, 5197, 5195, 1059, 5195, 5197, 5195, 5196, 757, 5196, 5197, 6939], 'ability_uses': None, 'account_id': None, 'actions': None, 'additional_units': None, 'assists': 10, 'backpack_0': 0, 'backpack_1': 0, 'backpack_2': 0, 'backpack_3': None, 'buyback_log': None, 'camps_stacked': None, 'connection_log': None, 'creeps_stacked': None, 'damage': None, 'damage_inflictor': None, 'damage_inflictor_received': None, 'damage_taken': None, 'damage_targets': None, 'deaths': 7, 'denies': 5, 'dn_t': None, 'firstblood_claimed': None, 'gold': 904, 'gold_per_min': 606, 'gold_reasons': None, 'gold_spent': 19245, 'gold_t': None, 'hero_damage': 32983, 'hero_healing': 0, 'hero_hits': None, 'hero_id': 46, 'item_0': 168, 'item_1': 63, 'item_2': 1, 'item_3': 116, 'item_4': 98, 'item_5': 236, 'item_neutral': 361, 'item_uses': None, 'kill_streaks': None, 'killed': None, 'killed_by': None, 'kills': 10, 'kills_log': None, 'lane_pos': None, 'last_hits': 251, 'leaver_status': 0, 'level': 23, 'lh_t': None, 'life_state': None, 'max_hero_hit': None, 'multi_kills': None, 'net_worth': 17579, 'obs': None, 'obs_left_log': None, 'obs_log': None, 'obs_placed': None, 'party_id': 1, 'party_size': 2, 'performance_others': None, 'permanent_buffs': [], 'pings': None, 'pred_vict': None, 'purchase': None, 'purchase_log': None, 'randomed': None, 'repicked': None, 'roshans_killed': None, 'rune_pickups': None, 'runes': None, 'runes_log': None, 'sen': None, 'sen_left_log': None, 'sen_log': None, 'sen_placed': None, 'stuns': None, 'teamfight_participation': None, 'times': None, 'tower_damage': 2008, 'towers_killed': None, 'xp_per_min': 789, 'xp_reasons': None, 'xp_t': None, 'radiant_win': False, 'start_time': 1687293510, 'duration': 2198, 'cluster': 192, 'lobby_type': 7, 'game_mode': 22, 'is_contributor': False, 'patch': 52, 'region': 9, 'isRadiant': True, 'win': 0, 'lose': 1, 'total_gold': 22199, 'total_xp': 28903, 'kills_per_min': 0.272975432211101, 'kda': 2, 'abandons': 0, 'rank_tier': None, 'is_subscriber': False, 'cosmetics': [], 'benchmarks': {'gold_per_min': {'raw': 606, 'pct': 0.13333333333333333}, 'xp_per_min': {'raw': 789, 'pct': 0.36666666666666664}, 'kills_per_min': {'raw': 0.272975432211101, 'pct': 0.5666666666666667}, 'last_hits_per_min': {'raw': 6.851683348498635, 'pct': 0.03333333333333333}, 'hero_damage_per_min': {'raw': 900.3548680618744, 'pct': 0.6333333333333333}, 'hero_healing_per_min': {'raw': 0, 'pct': 0.9666666666666667}, 'tower_damage': {'raw': 2008, 'pct': 0.16666666666666666}, 'stuns_per_min': {'raw': 0, 'pct': 0.9333333333333333}, 'lhten': {}}}, {'match_id': 7208840505, 'player_slot': 4, 'ability_targets': None, 'ability_upgrades_arr': [5134, 7325, 5134, 7325, 5134, 5137, 5134, 5136, 5136, 530, 5136, 5137, 5136, 7325, 7325, 6292, 5137, 7360], 'ability_uses': None, 'account_id': 126665486, 'actions': None, 'additional_units': None, 'assists': 19, 'backpack_0': 0, 'backpack_1': 0, 'backpack_2': 0, 'backpack_3': None, 'buyback_log': None, 'camps_stacked': None, 'connection_log': None, 'creeps_stacked': None, 'damage': None, 'damage_inflictor': None, 'damage_inflictor_received': None, 'damage_taken': None, 'damage_targets': None, 'deaths': 13, 'denies': 2, 'dn_t': None, 'firstblood_claimed': None, 'gold': 4117, 'gold_per_min': 401, 'gold_reasons': None, 'gold_spent': 9610, 'gold_t': None, 'hero_damage': 28501, 'hero_healing': 0, 'hero_hits': None, 'hero_id': 31, 'item_0': 1107, 'item_1': 0, 'item_2': 254, 'item_3': 0, 'item_4': 36, 'item_5': 214, 'item_neutral': 838, 'item_uses': None, 'kill_streaks': None, 'killed': None, 'killed_by': None, 'kills': 9, 'kills_log': None, 'lane_pos': None, 'last_hits': 34, 'leaver_status': 0, 'level': 22, 'lh_t': None, 'life_state': None, 'max_hero_hit': None, 'multi_kills': None, 'net_worth': 11617, 'obs': None, 'obs_left_log': None, 'obs_log': None, 'obs_placed': None, 'party_id': 2, 'party_size': 1, 'performance_others': None, 'permanent_buffs': [{'permanent_buff': 12, 'stack_count': 0, 'grant_time': 2172}], 'pings': None, 'pred_vict': None, 'purchase': None, 'purchase_log': None, 'randomed': None, 'repicked': None, 'roshans_killed': None, 'rune_pickups': None, 'runes': None, 'runes_log': None, 'sen': None, 'sen_left_log': None, 'sen_log': None, 'sen_placed': None, 'stuns': None, 'teamfight_participation': None, 'times': None, 'tower_damage': 0, 'towers_killed': None, 'xp_per_min': 765, 'xp_reasons': None, 'xp_t': None, 'personaname': 'Фрезеровщик', 'name': None, 'last_login': None, 'radiant_win': False, 'start_time': 1687293510, 'duration': 2198, 'cluster': 192, 'lobby_type': 7, 'game_mode': 22, 'is_contributor': False, 'patch': 52, 'region': 9, 'isRadiant': True, 'win': 0, 'lose': 1, 'total_gold': 14689, 'total_xp': 28024, 'kills_per_min': 0.2456778889899909, 'kda': 2, 'abandons': 0, 'rank_tier': 41, 'is_subscriber': False, 'cosmetics': [], 'benchmarks': {'gold_per_min': {'raw': 401, 'pct': 0.927536231884058}, 'xp_per_min': {'raw': 765, 'pct': 1}, 'kills_per_min': {'raw': 0.2456778889899909, 'pct': 0.9710144927536232}, 'last_hits_per_min': {'raw': 0.9281164695177434, 'pct': 0.391304347826087}, 'hero_damage_per_min': {'raw': 778.007279344859, 'pct': 0.9855072463768116}, 'hero_healing_per_min': {'raw': 0, 'pct': 0.6086956521739131}, 'tower_damage': {'raw': 0, 'pct': 0.3188405797101449}, 'stuns_per_min': {'raw': 0, 'pct': 0}, 'lhten': {}}}, {'match_id': 7208840505, 'player_slot': 128, 'ability_targets': None, 'ability_upgrades_arr': [5378, 5377, 5377, 5379, 5377, 5380, 5377, 5379, 5379, 6184, 5379, 5380, 5378, 5378, 721, 5378, 5380, 8247], 'ability_uses': None, 'account_id': None, 'actions': None, 'additional_units': None, 'assists': 30, 'backpack_0': 36, 'backpack_1': 0, 'backpack_2': 0, 'backpack_3': None, 'buyback_log': None, 'camps_stacked': None, 'connection_log': None, 'creeps_stacked': None, 'damage': None, 'damage_inflictor': None, 'damage_inflictor_received': None, 'damage_taken': None, 'damage_targets': None, 'deaths': 9, 'denies': 7, 'dn_t': None, 'firstblood_claimed': None, 'gold': 1542, 'gold_per_min': 467, 'gold_reasons': None, 'gold_spent': 15215, 'gold_t': None, 'hero_damage': 20584, 'hero_healing': 0, 'hero_hits': None, 'hero_id': 75, 'item_0': 256, 'item_1': 214, 'item_2': 42, 'item_3': 102, 'item_4': 190, 'item_5': 96, 'item_neutral': 288, 'item_uses': None, 'kill_streaks': None, 'killed': None, 'killed_by': None, 'kills': 9, 'kills_log': None, 'lane_pos': None, 'last_hits': 68, 'leaver_status': 0, 'level': 20, 'lh_t': None, 'life_state': None, 'max_hero_hit': None, 'multi_kills': None, 'net_worth': 15192, 'obs': None, 'obs_left_log': None, 'obs_log': None, 'obs_placed': None, 'party_id': 3, 'party_size': 1, 'performance_others': None, 'permanent_buffs': [{'permanent_buff': 3, 'stack_count': 42, 'grant_time': 231}], 'pings': None, 'pred_vict': None, 'purchase': None, 'purchase_log': None, 'randomed': None, 'repicked': None, 'roshans_killed': None, 'rune_pickups': None, 'runes': None, 'runes_log': None, 'sen': None, 'sen_left_log': None, 'sen_log': None, 'sen_placed': None, 'stuns': None, 'teamfight_participation': None, 'times': None, 'tower_damage': 4431, 'towers_killed': None, 'xp_per_min': 589, 'xp_reasons': None, 'xp_t': None, 'radiant_win': False, 'start_time': 1687293510, 'duration': 2198, 'cluster': 192, 'lobby_type': 7, 'game_mode': 22, 'is_contributor': False, 'patch': 52, 'region': 9, 'isRadiant': False, 'win': 1, 'lose': 0, 'total_gold': 17107, 'total_xp': 21577, 'kills_per_min': 0.2456778889899909, 'kda': 3, 'abandons': 0, 'rank_tier': None, 'is_subscriber': False, 'cosmetics': [], 'benchmarks': {'gold_per_min': {'raw': 467, 'pct': 0.9016393442622951}, 'xp_per_min': {'raw': 589, 'pct': 0.8032786885245902}, 'kills_per_min': {'raw': 0.2456778889899909, 'pct': 0.9508196721311475}, 'last_hits_per_min': {'raw': 1.8562329390354868, 'pct': 0.8360655737704918}, 'hero_damage_per_min': {'raw': 561.8926296633302, 'pct': 0.819672131147541}, 'hero_healing_per_min': {'raw': 0, 'pct': 0.6885245901639344}, 'tower_damage': {'raw': 4431, 'pct': 1}, 'stuns_per_min': {'raw': 0, 'pct': 0.8688524590163934}, 'lhten': {}}}, {'match_id': 7208840505, 'player_slot': 129, 'ability_targets': None, 'ability_upgrades_arr': [879, 5601, 879, 5601, 879, 5599, 879, 886, 5601, 5601, 6000, 5599, 886, 886, 6282, 886, 5599, 412], 'ability_uses': None, 'account_id': 90255175, 'actions': None, 'additional_units': None, 'assists': 9, 'backpack_0': 0, 'backpack_1': 0, 'backpack_2': 0, 'backpack_3': None, 'buyback_log': None, 'camps_stacked': None, 'connection_log': None, 'creeps_stacked': None, 'damage': None, 'damage_inflictor': None, 'damage_inflictor_received': None, 'damage_taken': None, 'damage_targets': None, 'deaths': 9, 'denies': 2, 'dn_t': None, 'firstblood_claimed': None, 'gold': 3859, 'gold_per_min': 484, 'gold_reasons': None, 'gold_spent': 12860, 'gold_t': None, 'hero_damage': 16835, 'hero_healing': 0, 'hero_hits': None, 'hero_id': 105, 'item_0': 229, 'item_1': 180, 'item_2': 36, 'item_3': 1128, 'item_4': 102, 'item_5': 108, 'item_neutral': 306, 'item_uses': None, 'kill_streaks': None, 'killed': None, 'killed_by': None, 'kills': 11, 'kills_log': None, 'lane_pos': None, 'last_hits': 114, 'leaver_status': 0, 'level': 21, 'lh_t': None, 'life_state': None, 'max_hero_hit': None, 'multi_kills': None, 'net_worth': 15934, 'obs': None, 'obs_left_log': None, 'obs_log': None, 'obs_placed': None, 'party_id': 4, 'party_size': 2, 'performance_others': None, 'permanent_buffs': [], 'pings': None, 'pred_vict': None, 'purchase': None, 'purchase_log': None, 'randomed': None, 'repicked': None, 'roshans_killed': None, 'rune_pickups': None, 'runes': None, 'runes_log': None, 'sen': None, 'sen_left_log': None, 'sen_log': None, 'sen_placed': None, 'stuns': None, 'teamfight_participation': None, 'times': None, 'tower_damage': 5758, 'towers_killed': None, 'xp_per_min': 662, 'xp_reasons': None, 'xp_t': None, 'personaname': 'jURiiS.', 'name': None, 'last_login': '2017-12-03T16:06:55.521Z', 'radiant_win': False, 'start_time': 1687293510, 'duration': 2198, 'cluster': 192, 'lobby_type': 7, 'game_mode': 22, 'is_contributor': False, 'patch': 52, 'region': 9, 'isRadiant': False, 'win': 1, 'lose': 0, 'total_gold': 17730, 'total_xp': 24251, 'kills_per_min': 0.3002729754322111, 'kda': 2, 'abandons': 0, 'rank_tier': 42, 'is_subscriber': False, 'cosmetics': [], 'benchmarks': {'gold_per_min': {'raw': 484, 'pct': 0.89937106918239}, 'xp_per_min': {'raw': 662, 'pct': 0.9056603773584906}, 'kills_per_min': {'raw': 0.3002729754322111, 'pct': 0.9245283018867925}, 'last_hits_per_min': {'raw': 3.1119199272065514, 'pct': 0.7295597484276729}, 'hero_damage_per_min': {'raw': 459.55414012738856, 'pct': 0.2578616352201258}, 'hero_healing_per_min': {'raw': 0, 'pct': 0.5911949685534591}, 'tower_damage': {'raw': 5758, 'pct': 0.9811320754716981}, 'stuns_per_min': {'raw': 0, 'pct': 0}, 'lhten': {}}}, {'match_id': 7208840505, 'player_slot': 130, 'ability_targets': None, 'ability_upgrades_arr': [5595, 5597, 5595, 5596, 5595, 5598, 5595, 5597, 5597, 6218, 5597, 5598, 5596, 5596, 5596, 6671, 5598, 7395], 'ability_uses': None, 'account_id': 253300108, 'actions': None, 'additional_units': None, 'assists': 26, 'backpack_0': 0, 'backpack_1': 0, 'backpack_2': 0, 'backpack_3': None, 'buyback_log': None, 'camps_stacked': None, 'connection_log': None, 'creeps_stacked': None, 'damage': None, 'damage_inflictor': None, 'damage_inflictor_received': None, 'damage_taken': None, 'damage_targets': None, 'deaths': 14, 'denies': 5, 'dn_t': None, 'firstblood_claimed': None, 'gold': 4372, 'gold_per_min': 506, 'gold_reasons': None, 'gold_spent': 13085, 'gold_t': None, 'hero_damage': 22043, 'hero_healing': 2520, 'hero_hits': None, 'hero_id': 104, 'item_0': 63, 'item_1': 73, 'item_2': 55, 'item_3': 116, 'item_4': 127, 'item_5': 1, 'item_neutral': 297, 'item_uses': None, 'kill_streaks': None, 'killed': None, 'killed_by': None, 'kills': 6, 'kills_log': None, 'lane_pos': None, 'last_hits': 123, 'leaver_status': 0, 'level': 22, 'lh_t': None, 'life_state': None, 'max_hero_hit': None, 'multi_kills': None, 'net_worth': 16777, 'obs': None, 'obs_left_log': None, 'obs_log': None, 'obs_placed': None, 'party_id': 4, 'party_size': 2, 'performance_others': None, 'permanent_buffs': [{'permanent_buff': 5, 'stack_count': 236, 'grant_time': 812}], 'pings': None, 'pred_vict': None, 'purchase': None, 'purchase_log': None, 'randomed': None, 'repicked': None, 'roshans_killed': None, 'rune_pickups': None, 'runes': None, 'runes_log': None, 'sen': None, 'sen_left_log': None, 'sen_log': None, 'sen_placed': None, 'stuns': None, 'teamfight_participation': None, 'times': None, 'tower_damage': 7286, 'towers_killed': None, 'xp_per_min': 727, 'xp_reasons': None, 'xp_t': None, 'personaname': 'Dulam', 'name': None, 'last_login': None, 'radiant_win': False, 'start_time': 1687293510, 'duration': 2198, 'cluster': 192, 'lobby_type': 7, 'game_mode': 22, 'is_contributor': False, 'patch': 52, 'region': 9, 'isRadiant': False, 'win': 1, 'lose': 0, 'total_gold': 18536, 'total_xp': 26632, 'kills_per_min': 0.1637852593266606, 'kda': 2, 'abandons': 0, 'rank_tier': 32, 'is_subscriber': False, 'cosmetics': [], 'benchmarks': {'gold_per_min': {'raw': 506, 'pct': 0.48936170212765956}, 'xp_per_min': {'raw': 727, 'pct': 0.8191489361702128}, 'kills_per_min': {'raw': 0.1637852593266606, 'pct': 0.3829787234042553}, 'last_hits_per_min': {'raw': 3.3575978161965425, 'pct': 0.0425531914893617}, 'hero_damage_per_min': {'raw': 601.7197452229299, 'pct': 0.4148936170212766}, 'hero_healing_per_min': {'raw': 68.78980891719745, 'pct': 0.8829787234042553}, 'tower_damage': {'raw': 7286, 'pct': 0.8404255319148937}, 'stuns_per_min': {'raw': 0, 'pct': 0}, 'lhten': {}}}, {'match_id': 7208840505, 'player_slot': 131, 'ability_targets': None, 'ability_upgrades_arr': [5075, 5076, 5076, 5074, 5076, 5077, 5076, 5074, 5074, 5075, 7142, 5077, 5074, 5075, 6565, 5075, 5077, 408], 'ability_uses': None, 'account_id': 1122061508, 'actions': None, 'additional_units': None, 'assists': 21, 'backpack_0': 17, 'backpack_1': 21, 'backpack_2': 0, 'backpack_3': None, 'buyback_log': None, 'camps_stacked': None, 'connection_log': None, 'creeps_stacked': None, 'damage': None, 'damage_inflictor': None, 'damage_inflictor_received': None, 'damage_taken': None, 'damage_targets': None, 'deaths': 4, 'denies': 18, 'dn_t': None, 'firstblood_claimed': None, 'gold': 562, 'gold_per_min': 586, 'gold_reasons': None, 'gold_spent': 20980, 'gold_t': None, 'hero_damage': 31397, 'hero_healing': 0, 'hero_hits': None, 'hero_id': 14, 'item_0': 600, 'item_1': 50, 'item_2': 121, 'item_3': 73, 'item_4': 108, 'item_5': 31, 'item_neutral': 331, 'item_uses': None, 'kill_streaks': None, 'killed': None, 'killed_by': None, 'kills': 13, 'kills_log': None, 'lane_pos': None, 'last_hits': 152, 'leaver_status': 0, 'level': 24, 'lh_t': None, 'life_state': None, 'max_hero_hit': None, 'multi_kills': None, 'net_worth': 20217, 'obs': None, 'obs_left_log': None, 'obs_log': None, 'obs_placed': None, 'party_id': 5, 'party_size': 2, 'performance_others': None, 'permanent_buffs': [{'permanent_buff': 4, 'stack_count': 29, 'grant_time': 536}], 'pings': None, 'pred_vict': None, 'purchase': None, 'purchase_log': None, 'randomed': None, 'repicked': None, 'roshans_killed': None, 'rune_pickups': None, 'runes': None, 'runes_log': None, 'sen': None, 'sen_left_log': None, 'sen_log': None, 'sen_placed': None, 'stuns': None, 'teamfight_participation': None, 'times': None, 'tower_damage': 3739, 'towers_killed': None, 'xp_per_min': 860, 'xp_reasons': None, 'xp_t': None, 'personaname': '愚かなチーム', 'name': None, 'last_login': None, 'radiant_win': False, 'start_time': 1687293510, 'duration': 2198, 'cluster': 192, 'lobby_type': 7, 'game_mode': 22, 'is_contributor': False, 'patch': 52, 'region': 9, 'isRadiant': False, 'win': 1, 'lose': 0, 'total_gold': 21467, 'total_xp': 31504, 'kills_per_min': 0.3548680618744313, 'kda': 6, 'abandons': 0, 'rank_tier': 32, 'is_subscriber': False, 'cosmetics': [], 'benchmarks': {'gold_per_min': {'raw': 586, 'pct': 0.9230769230769231}, 'xp_per_min': {'raw': 860, 'pct': 0.9692307692307692}, 'kills_per_min': {'raw': 0.3548680618744313, 'pct': 0.9384615384615385}, 'last_hits_per_min': {'raw': 4.149226569608736, 'pct': 0.6153846153846154}, 'hero_damage_per_min': {'raw': 857.0609645131939, 'pct': 0.9692307692307692}, 'hero_healing_per_min': {'raw': 0, 'pct': 0.7538461538461538}, 'tower_damage': {'raw': 3739, 'pct': 0.9692307692307692}, 'stuns_per_min': {'raw': 0, 'pct': 0}, 'lhten': {}}}, {'match_id': 7208840505, 'player_slot': 132, 'ability_targets': None, 'ability_upgrades_arr': [5150, 5151, 5150, 5151, 5150, 4646, 5150, 5151, 5151, 800, 650, 5153, 650, 650, 765, 650, 5153, 1069, 6152, 7898], 'ability_uses': None, 'account_id': 306521969, 'actions': None, 'additional_units': None, 'assists': 23, 'backpack_0': 0, 'backpack_1': 0, 'backpack_2': 20, 'backpack_3': None, 'buyback_log': None, 'camps_stacked': None, 'connection_log': None, 'creeps_stacked': None, 'damage': None, 'damage_inflictor': None, 'damage_inflictor_received': None, 'damage_taken': None, 'damage_targets': None, 'deaths': 5, 'denies': 7, 'dn_t': None, 'firstblood_claimed': None, 'gold': 3316, 'gold_per_min': 729, 'gold_reasons': None, 'gold_spent': 22360, 'gold_t': None, 'hero_damage': 60015, 'hero_healing': 200, 'hero_hits': None, 'hero_id': 34, 'item_0': 273, 'item_1': 1, 'item_2': 119, 'item_3': 41, 'item_4': 178, 'item_5': 37, 'item_neutral': 306, 'item_uses': None, 'kill_streaks': None, 'killed': None, 'killed_by': None, 'kills': 20, 'kills_log': None, 'lane_pos': None, 'last_hits': 197, 'leaver_status': 0, 'level': 27, 'lh_t': None, 'life_state': None, 'max_hero_hit': None, 'multi_kills': None, 'net_worth': 23601, 'obs': None, 'obs_left_log': None, 'obs_log': None, 'obs_placed': None, 'party_id': 5, 'party_size': 2, 'performance_others': None, 'permanent_buffs': [{'permanent_buff': 2, 'stack_count': 0, 'grant_time': 2064}], 'pings': None, 'pred_vict': None, 'purchase': None, 'purchase_log': None, 'randomed': None, 'repicked': None, 'roshans_killed': None, 'rune_pickups': None, 'runes': None, 'runes_log': None, 'sen': None, 'sen_left_log': None, 'sen_log': None, 'sen_placed': None, 'stuns': None, 'teamfight_participation': None, 'times': None, 'tower_damage': 0, 'towers_killed': None, 'xp_per_min': 976, 'xp_reasons': None, 'xp_t': None, 'personaname': 'YT/hollowraze', 'name': None, 'last_login': None, 'radiant_win': False, 'start_time': 1687293510, 'duration': 2198, 'cluster': 192, 'lobby_type': 7, 'game_mode': 22, 'is_contributor': False, 'patch': 52, 'region': 9, 'isRadiant': False, 'win': 1, 'lose': 0, 'total_gold': 26705, 'total_xp': 35754, 'kills_per_min': 0.545950864422202, 'kda': 7, 'abandons': 0, 'rank_tier': 44, 'is_subscriber': False, 'cosmetics': [], 'benchmarks': {'gold_per_min': {'raw': 729, 'pct': 0.8260869565217391}, 'xp_per_min': {'raw': 976, 'pct': 0.9130434782608695}, 'kills_per_min': {'raw': 0.545950864422202, 'pct': 0.9565217391304348}, 'last_hits_per_min': {'raw': 5.37761601455869, 'pct': 0.17391304347826086}, 'hero_damage_per_min': {'raw': 1638.2620564149227, 'pct': 0.9565217391304348}, 'hero_healing_per_min': {'raw': 5.459508644222019, 'pct': 0.7391304347826086}, 'tower_damage': {'raw': 0, 'pct': 0.21739130434782608}, 'stuns_per_min': {'raw': 0, 'pct': 0.391304347826087}, 'lhten': {}}}], 'patch': 52, 'region': 9, 'replay_url': 'http://replay192.valve.net/570/7208840505_1702394686.dem.bz2'}\n"
     ]
    }
   ],
   "source": [
    "match_data = matchrequest.getMatchID(match_id=7208840505)\n",
    "print(match_data)"
   ]
  },
  {
   "cell_type": "code",
   "execution_count": 7,
   "metadata": {},
   "outputs": [
    {
     "name": "stdout",
     "output_type": "stream",
     "text": [
      "[7208840505, 63, 0, None, 192, None, 62, None, None, 2198, 1, 6, 22, 10, 0, 7, 6060544887, 0, None, [{'is_pick': True, 'hero_id': 14, 'team': 1, 'order': 0}, {'is_pick': True, 'hero_id': 105, 'team': 1, 'order': 1}, {'is_pick': True, 'hero_id': 20, 'team': 0, 'order': 2}, {'is_pick': True, 'hero_id': 31, 'team': 0, 'order': 3}, {'is_pick': True, 'hero_id': 113, 'team': 0, 'order': 4}, {'is_pick': True, 'hero_id': 51, 'team': 0, 'order': 5}, {'is_pick': True, 'hero_id': 104, 'team': 1, 'order': 6}, {'is_pick': True, 'hero_id': 75, 'team': 1, 'order': 7}, {'is_pick': True, 'hero_id': 34, 'team': 1, 'order': 8}, {'is_pick': True, 'hero_id': 46, 'team': 0, 'order': 9}, {'is_pick': False, 'hero_id': 32, 'team': 0, 'order': 10}, {'is_pick': False, 'hero_id': 102, 'team': 0, 'order': 11}, {'is_pick': False, 'hero_id': 34, 'team': 0, 'order': 12}, {'is_pick': False, 'hero_id': 21, 'team': 0, 'order': 13}, {'is_pick': False, 'hero_id': 14, 'team': 0, 'order': 14}, {'is_pick': False, 'hero_id': 3, 'team': 1, 'order': 15}, {'is_pick': False, 'hero_id': 126, 'team': 1, 'order': 16}], 0, None, 41, None, False, None, None, 1687293510, None, 1975, 0, None, 1702394686, 0, 0, [{'match_id': 7208840505, 'player_slot': 0, 'ability_targets': None, 'ability_upgrades_arr': [5122, 5124, 5122, 5124, 5122, 5125, 5122, 5124, 5123, 1067, 5124, 5125, 5123, 5123, 6978, 5123], 'ability_uses': None, 'account_id': None, 'actions': None, 'additional_units': None, 'assists': 20, 'backpack_0': 0, 'backpack_1': 0, 'backpack_2': 0, 'backpack_3': None, 'buyback_log': None, 'camps_stacked': None, 'connection_log': None, 'creeps_stacked': None, 'damage': None, 'damage_inflictor': None, 'damage_inflictor_received': None, 'damage_taken': None, 'damage_targets': None, 'deaths': 13, 'denies': 0, 'dn_t': None, 'firstblood_claimed': None, 'gold': 883, 'gold_per_min': 268, 'gold_reasons': None, 'gold_spent': 8535, 'gold_t': None, 'hero_damage': 16690, 'hero_healing': 125, 'hero_hits': None, 'hero_id': 20, 'item_0': 215, 'item_1': 34, 'item_2': 92, 'item_3': 29, 'item_4': 162, 'item_5': 232, 'item_neutral': 680, 'item_uses': None, 'kill_streaks': None, 'killed': None, 'killed_by': None, 'kills': 2, 'kills_log': None, 'lane_pos': None, 'last_hits': 24, 'leaver_status': 0, 'level': 17, 'lh_t': None, 'life_state': None, 'max_hero_hit': None, 'multi_kills': None, 'net_worth': 9188, 'obs': None, 'obs_left_log': None, 'obs_log': None, 'obs_placed': None, 'party_id': 0, 'party_size': 2, 'performance_others': None, 'permanent_buffs': [{'permanent_buff': 12, 'stack_count': 0, 'grant_time': 1939}], 'pings': None, 'pred_vict': None, 'purchase': None, 'purchase_log': None, 'randomed': None, 'repicked': None, 'roshans_killed': None, 'rune_pickups': None, 'runes': None, 'runes_log': None, 'sen': None, 'sen_left_log': None, 'sen_log': None, 'sen_placed': None, 'stuns': None, 'teamfight_participation': None, 'times': None, 'tower_damage': 0, 'towers_killed': None, 'xp_per_min': 476, 'xp_reasons': None, 'xp_t': None, 'radiant_win': False, 'start_time': 1687293510, 'duration': 2198, 'cluster': 192, 'lobby_type': 7, 'game_mode': 22, 'is_contributor': False, 'patch': 52, 'region': 9, 'isRadiant': True, 'win': 0, 'lose': 1, 'total_gold': 9817, 'total_xp': 17437, 'kills_per_min': 0.0545950864422202, 'kda': 1, 'abandons': 0, 'rank_tier': None, 'is_subscriber': False, 'cosmetics': [], 'benchmarks': {'gold_per_min': {'raw': 268, 'pct': 0.15789473684210525}, 'xp_per_min': {'raw': 476, 'pct': 0.5263157894736842}, 'kills_per_min': {'raw': 0.0545950864422202, 'pct': 0.2631578947368421}, 'last_hits_per_min': {'raw': 0.6551410373066424, 'pct': 0.21052631578947367}, 'hero_damage_per_min': {'raw': 455.5959963603276, 'pct': 0.5263157894736842}, 'hero_healing_per_min': {'raw': 3.4121929026387625, 'pct': 0.8947368421052632}, 'tower_damage': {'raw': 0, 'pct': 0.05263157894736842}, 'stuns_per_min': {'raw': 0, 'pct': 0}, 'lhten': {}}}, {'match_id': 7208840505, 'player_slot': 1, 'ability_targets': None, 'ability_upgrades_arr': [5679, 5677, 5677, 5679, 5677, 5683, 5677, 5679, 5679, 7120, 5678, 5683, 5678, 5678, 7104, 5678, 5683], 'ability_uses': None, 'account_id': 885252131, 'actions': None, 'additional_units': [{'unitname': '', 'item_0': 1466, 'item_1': 65, 'item_2': 48, 'item_3': 20, 'item_4': 170, 'item_5': 75, 'backpack_0': 34, 'backpack_1': 0, 'backpack_2': 0, 'item_neutral': 0}], 'assists': 7, 'backpack_0': 34, 'backpack_1': 0, 'backpack_2': 0, 'backpack_3': None, 'buyback_log': None, 'camps_stacked': None, 'connection_log': None, 'creeps_stacked': None, 'damage': None, 'damage_inflictor': None, 'damage_inflictor_received': None, 'damage_taken': None, 'damage_targets': None, 'deaths': 14, 'denies': 6, 'dn_t': None, 'firstblood_claimed': None, 'gold': 836, 'gold_per_min': 501, 'gold_reasons': None, 'gold_spent': 14050, 'gold_t': None, 'hero_damage': 22730, 'hero_healing': 0, 'hero_hits': None, 'hero_id': 113, 'item_0': 1466, 'item_1': 65, 'item_2': 48, 'item_3': 20, 'item_4': 170, 'item_5': 75, 'item_neutral': 1124, 'item_uses': None, 'kill_streaks': None, 'killed': None, 'killed_by': None, 'kills': 8, 'kills_log': None, 'lane_pos': None, 'last_hits': 158, 'leaver_status': 0, 'level': 19, 'lh_t': None, 'life_state': None, 'max_hero_hit': None, 'multi_kills': None, 'net_worth': 14596, 'obs': None, 'obs_left_log': None, 'obs_log': None, 'obs_placed': None, 'party_id': 0, 'party_size': 2, 'performance_others': None, 'permanent_buffs': [], 'pings': None, 'pred_vict': None, 'purchase': None, 'purchase_log': None, 'randomed': None, 'repicked': None, 'roshans_killed': None, 'rune_pickups': None, 'runes': None, 'runes_log': None, 'sen': None, 'sen_left_log': None, 'sen_log': None, 'sen_placed': None, 'stuns': None, 'teamfight_participation': None, 'times': None, 'tower_damage': 177, 'towers_killed': None, 'xp_per_min': 545, 'xp_reasons': None, 'xp_t': None, 'personaname': 'Мира ♡', 'name': None, 'last_login': None, 'radiant_win': False, 'start_time': 1687293510, 'duration': 2198, 'cluster': 192, 'lobby_type': 7, 'game_mode': 22, 'is_contributor': False, 'patch': 52, 'region': 9, 'isRadiant': True, 'win': 0, 'lose': 1, 'total_gold': 18353, 'total_xp': 19965, 'kills_per_min': 0.2183803457688808, 'kda': 1, 'abandons': 0, 'rank_tier': 35, 'is_subscriber': False, 'cosmetics': [], 'benchmarks': {'gold_per_min': {'raw': 501, 'pct': 0}, 'xp_per_min': {'raw': 545, 'pct': 0}, 'kills_per_min': {'raw': 0.2183803457688808, 'pct': 0.3333333333333333}, 'last_hits_per_min': {'raw': 4.313011828935396, 'pct': 0}, 'hero_damage_per_min': {'raw': 620.4731574158326, 'pct': 0}, 'hero_healing_per_min': {'raw': 0, 'pct': 1}, 'tower_damage': {'raw': 177, 'pct': 0}, 'stuns_per_min': {'raw': 0, 'pct': 0}, 'lhten': {}}}, {'match_id': 7208840505, 'player_slot': 2, 'ability_targets': None, 'ability_upgrades_arr': [5237, 5238, 5237, 5239, 5237, 5240, 5237, 5239, 5239, 5239, 5240, 850, 5238, 5238, 6512, 5238, 5240], 'ability_uses': None, 'account_id': 198219602, 'actions': None, 'additional_units': None, 'assists': 16, 'backpack_0': 947, 'backpack_1': 0, 'backpack_2': 0, 'backpack_3': None, 'buyback_log': None, 'camps_stacked': None, 'connection_log': None, 'creeps_stacked': None, 'damage': None, 'damage_inflictor': None, 'damage_inflictor_received': None, 'damage_taken': None, 'damage_targets': None, 'deaths': 16, 'denies': 11, 'dn_t': None, 'firstblood_claimed': None, 'gold': 214, 'gold_per_min': 404, 'gold_reasons': None, 'gold_spent': 11885, 'gold_t': None, 'hero_damage': 19565, 'hero_healing': 0, 'hero_hits': None, 'hero_id': 51, 'item_0': 36, 'item_1': 137, 'item_2': 692, 'item_3': 4, 'item_4': 3, 'item_5': 50, 'item_neutral': 358, 'item_uses': None, 'kill_streaks': None, 'killed': None, 'killed_by': None, 'kills': 8, 'kills_log': None, 'lane_pos': None, 'last_hits': 106, 'leaver_status': 0, 'level': 18, 'lh_t': None, 'life_state': None, 'max_hero_hit': None, 'multi_kills': None, 'net_worth': 11614, 'obs': None, 'obs_left_log': None, 'obs_log': None, 'obs_placed': None, 'party_id': 1, 'party_size': 2, 'performance_others': None, 'permanent_buffs': [{'permanent_buff': 5, 'stack_count': 38, 'grant_time': 2114}], 'pings': None, 'pred_vict': None, 'purchase': None, 'purchase_log': None, 'randomed': None, 'repicked': None, 'roshans_killed': None, 'rune_pickups': None, 'runes': None, 'runes_log': None, 'sen': None, 'sen_left_log': None, 'sen_log': None, 'sen_placed': None, 'stuns': None, 'teamfight_participation': None, 'times': None, 'tower_damage': 0, 'towers_killed': None, 'xp_per_min': 503, 'xp_reasons': None, 'xp_t': None, 'personaname': 'gg', 'name': None, 'last_login': None, 'radiant_win': False, 'start_time': 1687293510, 'duration': 2198, 'cluster': 192, 'lobby_type': 7, 'game_mode': 22, 'is_contributor': False, 'patch': 52, 'region': 9, 'isRadiant': True, 'win': 0, 'lose': 1, 'total_gold': 14799, 'total_xp': 18426, 'kills_per_min': 0.2183803457688808, 'kda': 1, 'abandons': 0, 'rank_tier': 34, 'is_subscriber': False, 'cosmetics': [], 'benchmarks': {'gold_per_min': {'raw': 404, 'pct': 0.5}, 'xp_per_min': {'raw': 503, 'pct': 0.36666666666666664}, 'kills_per_min': {'raw': 0.2183803457688808, 'pct': 0.9}, 'last_hits_per_min': {'raw': 2.8935395814376705, 'pct': 0.7333333333333333}, 'hero_damage_per_min': {'raw': 534.0764331210191, 'pct': 0.5666666666666667}, 'hero_healing_per_min': {'raw': 0, 'pct': 0.6333333333333333}, 'tower_damage': {'raw': 0, 'pct': 0.3333333333333333}, 'stuns_per_min': {'raw': 0, 'pct': 0}, 'lhten': {}}}, {'match_id': 7208840505, 'player_slot': 3, 'ability_targets': None, 'ability_upgrades_arr': [5196, 5194, 5194, 5196, 5194, 5195, 5194, 5197, 5195, 1059, 5195, 5197, 5195, 5196, 757, 5196, 5197, 6939], 'ability_uses': None, 'account_id': None, 'actions': None, 'additional_units': None, 'assists': 10, 'backpack_0': 0, 'backpack_1': 0, 'backpack_2': 0, 'backpack_3': None, 'buyback_log': None, 'camps_stacked': None, 'connection_log': None, 'creeps_stacked': None, 'damage': None, 'damage_inflictor': None, 'damage_inflictor_received': None, 'damage_taken': None, 'damage_targets': None, 'deaths': 7, 'denies': 5, 'dn_t': None, 'firstblood_claimed': None, 'gold': 904, 'gold_per_min': 606, 'gold_reasons': None, 'gold_spent': 19245, 'gold_t': None, 'hero_damage': 32983, 'hero_healing': 0, 'hero_hits': None, 'hero_id': 46, 'item_0': 168, 'item_1': 63, 'item_2': 1, 'item_3': 116, 'item_4': 98, 'item_5': 236, 'item_neutral': 361, 'item_uses': None, 'kill_streaks': None, 'killed': None, 'killed_by': None, 'kills': 10, 'kills_log': None, 'lane_pos': None, 'last_hits': 251, 'leaver_status': 0, 'level': 23, 'lh_t': None, 'life_state': None, 'max_hero_hit': None, 'multi_kills': None, 'net_worth': 17579, 'obs': None, 'obs_left_log': None, 'obs_log': None, 'obs_placed': None, 'party_id': 1, 'party_size': 2, 'performance_others': None, 'permanent_buffs': [], 'pings': None, 'pred_vict': None, 'purchase': None, 'purchase_log': None, 'randomed': None, 'repicked': None, 'roshans_killed': None, 'rune_pickups': None, 'runes': None, 'runes_log': None, 'sen': None, 'sen_left_log': None, 'sen_log': None, 'sen_placed': None, 'stuns': None, 'teamfight_participation': None, 'times': None, 'tower_damage': 2008, 'towers_killed': None, 'xp_per_min': 789, 'xp_reasons': None, 'xp_t': None, 'radiant_win': False, 'start_time': 1687293510, 'duration': 2198, 'cluster': 192, 'lobby_type': 7, 'game_mode': 22, 'is_contributor': False, 'patch': 52, 'region': 9, 'isRadiant': True, 'win': 0, 'lose': 1, 'total_gold': 22199, 'total_xp': 28903, 'kills_per_min': 0.272975432211101, 'kda': 2, 'abandons': 0, 'rank_tier': None, 'is_subscriber': False, 'cosmetics': [], 'benchmarks': {'gold_per_min': {'raw': 606, 'pct': 0.13333333333333333}, 'xp_per_min': {'raw': 789, 'pct': 0.36666666666666664}, 'kills_per_min': {'raw': 0.272975432211101, 'pct': 0.5666666666666667}, 'last_hits_per_min': {'raw': 6.851683348498635, 'pct': 0.03333333333333333}, 'hero_damage_per_min': {'raw': 900.3548680618744, 'pct': 0.6333333333333333}, 'hero_healing_per_min': {'raw': 0, 'pct': 0.9666666666666667}, 'tower_damage': {'raw': 2008, 'pct': 0.16666666666666666}, 'stuns_per_min': {'raw': 0, 'pct': 0.9333333333333333}, 'lhten': {}}}, {'match_id': 7208840505, 'player_slot': 4, 'ability_targets': None, 'ability_upgrades_arr': [5134, 7325, 5134, 7325, 5134, 5137, 5134, 5136, 5136, 530, 5136, 5137, 5136, 7325, 7325, 6292, 5137, 7360], 'ability_uses': None, 'account_id': 126665486, 'actions': None, 'additional_units': None, 'assists': 19, 'backpack_0': 0, 'backpack_1': 0, 'backpack_2': 0, 'backpack_3': None, 'buyback_log': None, 'camps_stacked': None, 'connection_log': None, 'creeps_stacked': None, 'damage': None, 'damage_inflictor': None, 'damage_inflictor_received': None, 'damage_taken': None, 'damage_targets': None, 'deaths': 13, 'denies': 2, 'dn_t': None, 'firstblood_claimed': None, 'gold': 4117, 'gold_per_min': 401, 'gold_reasons': None, 'gold_spent': 9610, 'gold_t': None, 'hero_damage': 28501, 'hero_healing': 0, 'hero_hits': None, 'hero_id': 31, 'item_0': 1107, 'item_1': 0, 'item_2': 254, 'item_3': 0, 'item_4': 36, 'item_5': 214, 'item_neutral': 838, 'item_uses': None, 'kill_streaks': None, 'killed': None, 'killed_by': None, 'kills': 9, 'kills_log': None, 'lane_pos': None, 'last_hits': 34, 'leaver_status': 0, 'level': 22, 'lh_t': None, 'life_state': None, 'max_hero_hit': None, 'multi_kills': None, 'net_worth': 11617, 'obs': None, 'obs_left_log': None, 'obs_log': None, 'obs_placed': None, 'party_id': 2, 'party_size': 1, 'performance_others': None, 'permanent_buffs': [{'permanent_buff': 12, 'stack_count': 0, 'grant_time': 2172}], 'pings': None, 'pred_vict': None, 'purchase': None, 'purchase_log': None, 'randomed': None, 'repicked': None, 'roshans_killed': None, 'rune_pickups': None, 'runes': None, 'runes_log': None, 'sen': None, 'sen_left_log': None, 'sen_log': None, 'sen_placed': None, 'stuns': None, 'teamfight_participation': None, 'times': None, 'tower_damage': 0, 'towers_killed': None, 'xp_per_min': 765, 'xp_reasons': None, 'xp_t': None, 'personaname': 'Фрезеровщик', 'name': None, 'last_login': None, 'radiant_win': False, 'start_time': 1687293510, 'duration': 2198, 'cluster': 192, 'lobby_type': 7, 'game_mode': 22, 'is_contributor': False, 'patch': 52, 'region': 9, 'isRadiant': True, 'win': 0, 'lose': 1, 'total_gold': 14689, 'total_xp': 28024, 'kills_per_min': 0.2456778889899909, 'kda': 2, 'abandons': 0, 'rank_tier': 41, 'is_subscriber': False, 'cosmetics': [], 'benchmarks': {'gold_per_min': {'raw': 401, 'pct': 0.927536231884058}, 'xp_per_min': {'raw': 765, 'pct': 1}, 'kills_per_min': {'raw': 0.2456778889899909, 'pct': 0.9710144927536232}, 'last_hits_per_min': {'raw': 0.9281164695177434, 'pct': 0.391304347826087}, 'hero_damage_per_min': {'raw': 778.007279344859, 'pct': 0.9855072463768116}, 'hero_healing_per_min': {'raw': 0, 'pct': 0.6086956521739131}, 'tower_damage': {'raw': 0, 'pct': 0.3188405797101449}, 'stuns_per_min': {'raw': 0, 'pct': 0}, 'lhten': {}}}, {'match_id': 7208840505, 'player_slot': 128, 'ability_targets': None, 'ability_upgrades_arr': [5378, 5377, 5377, 5379, 5377, 5380, 5377, 5379, 5379, 6184, 5379, 5380, 5378, 5378, 721, 5378, 5380, 8247], 'ability_uses': None, 'account_id': None, 'actions': None, 'additional_units': None, 'assists': 30, 'backpack_0': 36, 'backpack_1': 0, 'backpack_2': 0, 'backpack_3': None, 'buyback_log': None, 'camps_stacked': None, 'connection_log': None, 'creeps_stacked': None, 'damage': None, 'damage_inflictor': None, 'damage_inflictor_received': None, 'damage_taken': None, 'damage_targets': None, 'deaths': 9, 'denies': 7, 'dn_t': None, 'firstblood_claimed': None, 'gold': 1542, 'gold_per_min': 467, 'gold_reasons': None, 'gold_spent': 15215, 'gold_t': None, 'hero_damage': 20584, 'hero_healing': 0, 'hero_hits': None, 'hero_id': 75, 'item_0': 256, 'item_1': 214, 'item_2': 42, 'item_3': 102, 'item_4': 190, 'item_5': 96, 'item_neutral': 288, 'item_uses': None, 'kill_streaks': None, 'killed': None, 'killed_by': None, 'kills': 9, 'kills_log': None, 'lane_pos': None, 'last_hits': 68, 'leaver_status': 0, 'level': 20, 'lh_t': None, 'life_state': None, 'max_hero_hit': None, 'multi_kills': None, 'net_worth': 15192, 'obs': None, 'obs_left_log': None, 'obs_log': None, 'obs_placed': None, 'party_id': 3, 'party_size': 1, 'performance_others': None, 'permanent_buffs': [{'permanent_buff': 3, 'stack_count': 42, 'grant_time': 231}], 'pings': None, 'pred_vict': None, 'purchase': None, 'purchase_log': None, 'randomed': None, 'repicked': None, 'roshans_killed': None, 'rune_pickups': None, 'runes': None, 'runes_log': None, 'sen': None, 'sen_left_log': None, 'sen_log': None, 'sen_placed': None, 'stuns': None, 'teamfight_participation': None, 'times': None, 'tower_damage': 4431, 'towers_killed': None, 'xp_per_min': 589, 'xp_reasons': None, 'xp_t': None, 'radiant_win': False, 'start_time': 1687293510, 'duration': 2198, 'cluster': 192, 'lobby_type': 7, 'game_mode': 22, 'is_contributor': False, 'patch': 52, 'region': 9, 'isRadiant': False, 'win': 1, 'lose': 0, 'total_gold': 17107, 'total_xp': 21577, 'kills_per_min': 0.2456778889899909, 'kda': 3, 'abandons': 0, 'rank_tier': None, 'is_subscriber': False, 'cosmetics': [], 'benchmarks': {'gold_per_min': {'raw': 467, 'pct': 0.9016393442622951}, 'xp_per_min': {'raw': 589, 'pct': 0.8032786885245902}, 'kills_per_min': {'raw': 0.2456778889899909, 'pct': 0.9508196721311475}, 'last_hits_per_min': {'raw': 1.8562329390354868, 'pct': 0.8360655737704918}, 'hero_damage_per_min': {'raw': 561.8926296633302, 'pct': 0.819672131147541}, 'hero_healing_per_min': {'raw': 0, 'pct': 0.6885245901639344}, 'tower_damage': {'raw': 4431, 'pct': 1}, 'stuns_per_min': {'raw': 0, 'pct': 0.8688524590163934}, 'lhten': {}}}, {'match_id': 7208840505, 'player_slot': 129, 'ability_targets': None, 'ability_upgrades_arr': [879, 5601, 879, 5601, 879, 5599, 879, 886, 5601, 5601, 6000, 5599, 886, 886, 6282, 886, 5599, 412], 'ability_uses': None, 'account_id': 90255175, 'actions': None, 'additional_units': None, 'assists': 9, 'backpack_0': 0, 'backpack_1': 0, 'backpack_2': 0, 'backpack_3': None, 'buyback_log': None, 'camps_stacked': None, 'connection_log': None, 'creeps_stacked': None, 'damage': None, 'damage_inflictor': None, 'damage_inflictor_received': None, 'damage_taken': None, 'damage_targets': None, 'deaths': 9, 'denies': 2, 'dn_t': None, 'firstblood_claimed': None, 'gold': 3859, 'gold_per_min': 484, 'gold_reasons': None, 'gold_spent': 12860, 'gold_t': None, 'hero_damage': 16835, 'hero_healing': 0, 'hero_hits': None, 'hero_id': 105, 'item_0': 229, 'item_1': 180, 'item_2': 36, 'item_3': 1128, 'item_4': 102, 'item_5': 108, 'item_neutral': 306, 'item_uses': None, 'kill_streaks': None, 'killed': None, 'killed_by': None, 'kills': 11, 'kills_log': None, 'lane_pos': None, 'last_hits': 114, 'leaver_status': 0, 'level': 21, 'lh_t': None, 'life_state': None, 'max_hero_hit': None, 'multi_kills': None, 'net_worth': 15934, 'obs': None, 'obs_left_log': None, 'obs_log': None, 'obs_placed': None, 'party_id': 4, 'party_size': 2, 'performance_others': None, 'permanent_buffs': [], 'pings': None, 'pred_vict': None, 'purchase': None, 'purchase_log': None, 'randomed': None, 'repicked': None, 'roshans_killed': None, 'rune_pickups': None, 'runes': None, 'runes_log': None, 'sen': None, 'sen_left_log': None, 'sen_log': None, 'sen_placed': None, 'stuns': None, 'teamfight_participation': None, 'times': None, 'tower_damage': 5758, 'towers_killed': None, 'xp_per_min': 662, 'xp_reasons': None, 'xp_t': None, 'personaname': 'jURiiS.', 'name': None, 'last_login': '2017-12-03T16:06:55.521Z', 'radiant_win': False, 'start_time': 1687293510, 'duration': 2198, 'cluster': 192, 'lobby_type': 7, 'game_mode': 22, 'is_contributor': False, 'patch': 52, 'region': 9, 'isRadiant': False, 'win': 1, 'lose': 0, 'total_gold': 17730, 'total_xp': 24251, 'kills_per_min': 0.3002729754322111, 'kda': 2, 'abandons': 0, 'rank_tier': 42, 'is_subscriber': False, 'cosmetics': [], 'benchmarks': {'gold_per_min': {'raw': 484, 'pct': 0.89937106918239}, 'xp_per_min': {'raw': 662, 'pct': 0.9056603773584906}, 'kills_per_min': {'raw': 0.3002729754322111, 'pct': 0.9245283018867925}, 'last_hits_per_min': {'raw': 3.1119199272065514, 'pct': 0.7295597484276729}, 'hero_damage_per_min': {'raw': 459.55414012738856, 'pct': 0.2578616352201258}, 'hero_healing_per_min': {'raw': 0, 'pct': 0.5911949685534591}, 'tower_damage': {'raw': 5758, 'pct': 0.9811320754716981}, 'stuns_per_min': {'raw': 0, 'pct': 0}, 'lhten': {}}}, {'match_id': 7208840505, 'player_slot': 130, 'ability_targets': None, 'ability_upgrades_arr': [5595, 5597, 5595, 5596, 5595, 5598, 5595, 5597, 5597, 6218, 5597, 5598, 5596, 5596, 5596, 6671, 5598, 7395], 'ability_uses': None, 'account_id': 253300108, 'actions': None, 'additional_units': None, 'assists': 26, 'backpack_0': 0, 'backpack_1': 0, 'backpack_2': 0, 'backpack_3': None, 'buyback_log': None, 'camps_stacked': None, 'connection_log': None, 'creeps_stacked': None, 'damage': None, 'damage_inflictor': None, 'damage_inflictor_received': None, 'damage_taken': None, 'damage_targets': None, 'deaths': 14, 'denies': 5, 'dn_t': None, 'firstblood_claimed': None, 'gold': 4372, 'gold_per_min': 506, 'gold_reasons': None, 'gold_spent': 13085, 'gold_t': None, 'hero_damage': 22043, 'hero_healing': 2520, 'hero_hits': None, 'hero_id': 104, 'item_0': 63, 'item_1': 73, 'item_2': 55, 'item_3': 116, 'item_4': 127, 'item_5': 1, 'item_neutral': 297, 'item_uses': None, 'kill_streaks': None, 'killed': None, 'killed_by': None, 'kills': 6, 'kills_log': None, 'lane_pos': None, 'last_hits': 123, 'leaver_status': 0, 'level': 22, 'lh_t': None, 'life_state': None, 'max_hero_hit': None, 'multi_kills': None, 'net_worth': 16777, 'obs': None, 'obs_left_log': None, 'obs_log': None, 'obs_placed': None, 'party_id': 4, 'party_size': 2, 'performance_others': None, 'permanent_buffs': [{'permanent_buff': 5, 'stack_count': 236, 'grant_time': 812}], 'pings': None, 'pred_vict': None, 'purchase': None, 'purchase_log': None, 'randomed': None, 'repicked': None, 'roshans_killed': None, 'rune_pickups': None, 'runes': None, 'runes_log': None, 'sen': None, 'sen_left_log': None, 'sen_log': None, 'sen_placed': None, 'stuns': None, 'teamfight_participation': None, 'times': None, 'tower_damage': 7286, 'towers_killed': None, 'xp_per_min': 727, 'xp_reasons': None, 'xp_t': None, 'personaname': 'Dulam', 'name': None, 'last_login': None, 'radiant_win': False, 'start_time': 1687293510, 'duration': 2198, 'cluster': 192, 'lobby_type': 7, 'game_mode': 22, 'is_contributor': False, 'patch': 52, 'region': 9, 'isRadiant': False, 'win': 1, 'lose': 0, 'total_gold': 18536, 'total_xp': 26632, 'kills_per_min': 0.1637852593266606, 'kda': 2, 'abandons': 0, 'rank_tier': 32, 'is_subscriber': False, 'cosmetics': [], 'benchmarks': {'gold_per_min': {'raw': 506, 'pct': 0.48936170212765956}, 'xp_per_min': {'raw': 727, 'pct': 0.8191489361702128}, 'kills_per_min': {'raw': 0.1637852593266606, 'pct': 0.3829787234042553}, 'last_hits_per_min': {'raw': 3.3575978161965425, 'pct': 0.0425531914893617}, 'hero_damage_per_min': {'raw': 601.7197452229299, 'pct': 0.4148936170212766}, 'hero_healing_per_min': {'raw': 68.78980891719745, 'pct': 0.8829787234042553}, 'tower_damage': {'raw': 7286, 'pct': 0.8404255319148937}, 'stuns_per_min': {'raw': 0, 'pct': 0}, 'lhten': {}}}, {'match_id': 7208840505, 'player_slot': 131, 'ability_targets': None, 'ability_upgrades_arr': [5075, 5076, 5076, 5074, 5076, 5077, 5076, 5074, 5074, 5075, 7142, 5077, 5074, 5075, 6565, 5075, 5077, 408], 'ability_uses': None, 'account_id': 1122061508, 'actions': None, 'additional_units': None, 'assists': 21, 'backpack_0': 17, 'backpack_1': 21, 'backpack_2': 0, 'backpack_3': None, 'buyback_log': None, 'camps_stacked': None, 'connection_log': None, 'creeps_stacked': None, 'damage': None, 'damage_inflictor': None, 'damage_inflictor_received': None, 'damage_taken': None, 'damage_targets': None, 'deaths': 4, 'denies': 18, 'dn_t': None, 'firstblood_claimed': None, 'gold': 562, 'gold_per_min': 586, 'gold_reasons': None, 'gold_spent': 20980, 'gold_t': None, 'hero_damage': 31397, 'hero_healing': 0, 'hero_hits': None, 'hero_id': 14, 'item_0': 600, 'item_1': 50, 'item_2': 121, 'item_3': 73, 'item_4': 108, 'item_5': 31, 'item_neutral': 331, 'item_uses': None, 'kill_streaks': None, 'killed': None, 'killed_by': None, 'kills': 13, 'kills_log': None, 'lane_pos': None, 'last_hits': 152, 'leaver_status': 0, 'level': 24, 'lh_t': None, 'life_state': None, 'max_hero_hit': None, 'multi_kills': None, 'net_worth': 20217, 'obs': None, 'obs_left_log': None, 'obs_log': None, 'obs_placed': None, 'party_id': 5, 'party_size': 2, 'performance_others': None, 'permanent_buffs': [{'permanent_buff': 4, 'stack_count': 29, 'grant_time': 536}], 'pings': None, 'pred_vict': None, 'purchase': None, 'purchase_log': None, 'randomed': None, 'repicked': None, 'roshans_killed': None, 'rune_pickups': None, 'runes': None, 'runes_log': None, 'sen': None, 'sen_left_log': None, 'sen_log': None, 'sen_placed': None, 'stuns': None, 'teamfight_participation': None, 'times': None, 'tower_damage': 3739, 'towers_killed': None, 'xp_per_min': 860, 'xp_reasons': None, 'xp_t': None, 'personaname': '愚かなチーム', 'name': None, 'last_login': None, 'radiant_win': False, 'start_time': 1687293510, 'duration': 2198, 'cluster': 192, 'lobby_type': 7, 'game_mode': 22, 'is_contributor': False, 'patch': 52, 'region': 9, 'isRadiant': False, 'win': 1, 'lose': 0, 'total_gold': 21467, 'total_xp': 31504, 'kills_per_min': 0.3548680618744313, 'kda': 6, 'abandons': 0, 'rank_tier': 32, 'is_subscriber': False, 'cosmetics': [], 'benchmarks': {'gold_per_min': {'raw': 586, 'pct': 0.9230769230769231}, 'xp_per_min': {'raw': 860, 'pct': 0.9692307692307692}, 'kills_per_min': {'raw': 0.3548680618744313, 'pct': 0.9384615384615385}, 'last_hits_per_min': {'raw': 4.149226569608736, 'pct': 0.6153846153846154}, 'hero_damage_per_min': {'raw': 857.0609645131939, 'pct': 0.9692307692307692}, 'hero_healing_per_min': {'raw': 0, 'pct': 0.7538461538461538}, 'tower_damage': {'raw': 3739, 'pct': 0.9692307692307692}, 'stuns_per_min': {'raw': 0, 'pct': 0}, 'lhten': {}}}, {'match_id': 7208840505, 'player_slot': 132, 'ability_targets': None, 'ability_upgrades_arr': [5150, 5151, 5150, 5151, 5150, 4646, 5150, 5151, 5151, 800, 650, 5153, 650, 650, 765, 650, 5153, 1069, 6152, 7898], 'ability_uses': None, 'account_id': 306521969, 'actions': None, 'additional_units': None, 'assists': 23, 'backpack_0': 0, 'backpack_1': 0, 'backpack_2': 20, 'backpack_3': None, 'buyback_log': None, 'camps_stacked': None, 'connection_log': None, 'creeps_stacked': None, 'damage': None, 'damage_inflictor': None, 'damage_inflictor_received': None, 'damage_taken': None, 'damage_targets': None, 'deaths': 5, 'denies': 7, 'dn_t': None, 'firstblood_claimed': None, 'gold': 3316, 'gold_per_min': 729, 'gold_reasons': None, 'gold_spent': 22360, 'gold_t': None, 'hero_damage': 60015, 'hero_healing': 200, 'hero_hits': None, 'hero_id': 34, 'item_0': 273, 'item_1': 1, 'item_2': 119, 'item_3': 41, 'item_4': 178, 'item_5': 37, 'item_neutral': 306, 'item_uses': None, 'kill_streaks': None, 'killed': None, 'killed_by': None, 'kills': 20, 'kills_log': None, 'lane_pos': None, 'last_hits': 197, 'leaver_status': 0, 'level': 27, 'lh_t': None, 'life_state': None, 'max_hero_hit': None, 'multi_kills': None, 'net_worth': 23601, 'obs': None, 'obs_left_log': None, 'obs_log': None, 'obs_placed': None, 'party_id': 5, 'party_size': 2, 'performance_others': None, 'permanent_buffs': [{'permanent_buff': 2, 'stack_count': 0, 'grant_time': 2064}], 'pings': None, 'pred_vict': None, 'purchase': None, 'purchase_log': None, 'randomed': None, 'repicked': None, 'roshans_killed': None, 'rune_pickups': None, 'runes': None, 'runes_log': None, 'sen': None, 'sen_left_log': None, 'sen_log': None, 'sen_placed': None, 'stuns': None, 'teamfight_participation': None, 'times': None, 'tower_damage': 0, 'towers_killed': None, 'xp_per_min': 976, 'xp_reasons': None, 'xp_t': None, 'personaname': 'YT/hollowraze', 'name': None, 'last_login': None, 'radiant_win': False, 'start_time': 1687293510, 'duration': 2198, 'cluster': 192, 'lobby_type': 7, 'game_mode': 22, 'is_contributor': False, 'patch': 52, 'region': 9, 'isRadiant': False, 'win': 1, 'lose': 0, 'total_gold': 26705, 'total_xp': 35754, 'kills_per_min': 0.545950864422202, 'kda': 7, 'abandons': 0, 'rank_tier': 44, 'is_subscriber': False, 'cosmetics': [], 'benchmarks': {'gold_per_min': {'raw': 729, 'pct': 0.8260869565217391}, 'xp_per_min': {'raw': 976, 'pct': 0.9130434782608695}, 'kills_per_min': {'raw': 0.545950864422202, 'pct': 0.9565217391304348}, 'last_hits_per_min': {'raw': 5.37761601455869, 'pct': 0.17391304347826086}, 'hero_damage_per_min': {'raw': 1638.2620564149227, 'pct': 0.9565217391304348}, 'hero_healing_per_min': {'raw': 5.459508644222019, 'pct': 0.7391304347826086}, 'tower_damage': {'raw': 0, 'pct': 0.21739130434782608}, 'stuns_per_min': {'raw': 0, 'pct': 0.391304347826087}, 'lhten': {}}}], 52, 9, 'http://replay192.valve.net/570/7208840505_1702394686.dem.bz2']\n"
     ]
    }
   ],
   "source": [
    "data = list(match_data.values())\n",
    "print(data)"
   ]
  },
  {
   "cell_type": "code",
   "execution_count": 8,
   "metadata": {},
   "outputs": [
    {
     "data": {
      "text/plain": [
       "['match_id',\n",
       " 'barracks_status_dire',\n",
       " 'barracks_status_radiant',\n",
       " 'chat',\n",
       " 'cluster',\n",
       " 'cosmetics',\n",
       " 'dire_score',\n",
       " 'dire_team_id',\n",
       " 'draft_timings',\n",
       " 'duration',\n",
       " 'engine',\n",
       " 'first_blood_time',\n",
       " 'game_mode',\n",
       " 'human_players',\n",
       " 'leagueid',\n",
       " 'lobby_type',\n",
       " 'match_seq_num',\n",
       " 'negative_votes',\n",
       " 'objectives',\n",
       " 'picks_bans',\n",
       " 'positive_votes',\n",
       " 'radiant_gold_adv',\n",
       " 'radiant_score',\n",
       " 'radiant_team_id',\n",
       " 'radiant_win',\n",
       " 'radiant_xp_adv',\n",
       " 'skill',\n",
       " 'start_time',\n",
       " 'teamfights',\n",
       " 'tower_status_dire',\n",
       " 'tower_status_radiant',\n",
       " 'version',\n",
       " 'replay_salt',\n",
       " 'series_id',\n",
       " 'series_type',\n",
       " 'players',\n",
       " 'patch',\n",
       " 'region',\n",
       " 'replay_url']"
      ]
     },
     "execution_count": 8,
     "metadata": {},
     "output_type": "execute_result"
    }
   ],
   "source": [
    "columns = list(match_data.keys())\n",
    "columns                           "
   ]
  },
  {
   "cell_type": "code",
   "execution_count": 9,
   "metadata": {},
   "outputs": [
    {
     "data": {
      "text/html": [
       "<div>\n",
       "<style scoped>\n",
       "    .dataframe tbody tr th:only-of-type {\n",
       "        vertical-align: middle;\n",
       "    }\n",
       "\n",
       "    .dataframe tbody tr th {\n",
       "        vertical-align: top;\n",
       "    }\n",
       "\n",
       "    .dataframe thead th {\n",
       "        text-align: right;\n",
       "    }\n",
       "</style>\n",
       "<table border=\"1\" class=\"dataframe\">\n",
       "  <thead>\n",
       "    <tr style=\"text-align: right;\">\n",
       "      <th></th>\n",
       "      <th>match_id</th>\n",
       "      <th>barracks_status_dire</th>\n",
       "      <th>barracks_status_radiant</th>\n",
       "      <th>chat</th>\n",
       "      <th>cluster</th>\n",
       "      <th>cosmetics</th>\n",
       "      <th>dire_score</th>\n",
       "      <th>dire_team_id</th>\n",
       "      <th>draft_timings</th>\n",
       "      <th>duration</th>\n",
       "      <th>...</th>\n",
       "      <th>tower_status_dire</th>\n",
       "      <th>tower_status_radiant</th>\n",
       "      <th>version</th>\n",
       "      <th>replay_salt</th>\n",
       "      <th>series_id</th>\n",
       "      <th>series_type</th>\n",
       "      <th>players</th>\n",
       "      <th>patch</th>\n",
       "      <th>region</th>\n",
       "      <th>replay_url</th>\n",
       "    </tr>\n",
       "  </thead>\n",
       "  <tbody>\n",
       "  </tbody>\n",
       "</table>\n",
       "<p>0 rows × 39 columns</p>\n",
       "</div>"
      ],
      "text/plain": [
       "Empty DataFrame\n",
       "Columns: [match_id, barracks_status_dire, barracks_status_radiant, chat, cluster, cosmetics, dire_score, dire_team_id, draft_timings, duration, engine, first_blood_time, game_mode, human_players, leagueid, lobby_type, match_seq_num, negative_votes, objectives, picks_bans, positive_votes, radiant_gold_adv, radiant_score, radiant_team_id, radiant_win, radiant_xp_adv, skill, start_time, teamfights, tower_status_dire, tower_status_radiant, version, replay_salt, series_id, series_type, players, patch, region, replay_url]\n",
       "Index: []\n",
       "\n",
       "[0 rows x 39 columns]"
      ]
     },
     "execution_count": 9,
     "metadata": {},
     "output_type": "execute_result"
    }
   ],
   "source": [
    "df_mdata = pd.DataFrame(columns=columns)\n",
    "df_mdata\n"
   ]
  },
  {
   "cell_type": "code",
   "execution_count": 10,
   "metadata": {},
   "outputs": [
    {
     "name": "stderr",
     "output_type": "stream",
     "text": [
      "C:\\Users\\jirip\\AppData\\Local\\Temp\\ipykernel_17244\\2436298047.py:1: FutureWarning: The frame.append method is deprecated and will be removed from pandas in a future version. Use pandas.concat instead.\n",
      "  df_mdata = df_mdata.append(pd.DataFrame([data],\n"
     ]
    },
    {
     "data": {
      "text/html": [
       "<div>\n",
       "<style scoped>\n",
       "    .dataframe tbody tr th:only-of-type {\n",
       "        vertical-align: middle;\n",
       "    }\n",
       "\n",
       "    .dataframe tbody tr th {\n",
       "        vertical-align: top;\n",
       "    }\n",
       "\n",
       "    .dataframe thead th {\n",
       "        text-align: right;\n",
       "    }\n",
       "</style>\n",
       "<table border=\"1\" class=\"dataframe\">\n",
       "  <thead>\n",
       "    <tr style=\"text-align: right;\">\n",
       "      <th></th>\n",
       "      <th>match_id</th>\n",
       "      <th>barracks_status_dire</th>\n",
       "      <th>barracks_status_radiant</th>\n",
       "      <th>chat</th>\n",
       "      <th>cluster</th>\n",
       "      <th>cosmetics</th>\n",
       "      <th>dire_score</th>\n",
       "      <th>dire_team_id</th>\n",
       "      <th>draft_timings</th>\n",
       "      <th>duration</th>\n",
       "      <th>...</th>\n",
       "      <th>tower_status_dire</th>\n",
       "      <th>tower_status_radiant</th>\n",
       "      <th>version</th>\n",
       "      <th>replay_salt</th>\n",
       "      <th>series_id</th>\n",
       "      <th>series_type</th>\n",
       "      <th>players</th>\n",
       "      <th>patch</th>\n",
       "      <th>region</th>\n",
       "      <th>replay_url</th>\n",
       "    </tr>\n",
       "  </thead>\n",
       "  <tbody>\n",
       "    <tr>\n",
       "      <th>0</th>\n",
       "      <td>7208840505</td>\n",
       "      <td>63</td>\n",
       "      <td>0</td>\n",
       "      <td>None</td>\n",
       "      <td>192</td>\n",
       "      <td>None</td>\n",
       "      <td>62</td>\n",
       "      <td>None</td>\n",
       "      <td>None</td>\n",
       "      <td>2198</td>\n",
       "      <td>...</td>\n",
       "      <td>1975</td>\n",
       "      <td>0</td>\n",
       "      <td>None</td>\n",
       "      <td>1702394686</td>\n",
       "      <td>0</td>\n",
       "      <td>0</td>\n",
       "      <td>[{'match_id': 7208840505, 'player_slot': 0, 'a...</td>\n",
       "      <td>52</td>\n",
       "      <td>9</td>\n",
       "      <td>http://replay192.valve.net/570/7208840505_1702...</td>\n",
       "    </tr>\n",
       "  </tbody>\n",
       "</table>\n",
       "<p>1 rows × 39 columns</p>\n",
       "</div>"
      ],
      "text/plain": [
       "     match_id barracks_status_dire barracks_status_radiant  chat cluster  \\\n",
       "0  7208840505                   63                       0  None     192   \n",
       "\n",
       "  cosmetics dire_score dire_team_id draft_timings duration  ...  \\\n",
       "0      None         62         None          None     2198  ...   \n",
       "\n",
       "  tower_status_dire tower_status_radiant version replay_salt series_id  \\\n",
       "0              1975                    0    None  1702394686         0   \n",
       "\n",
       "  series_type                                            players patch region  \\\n",
       "0           0  [{'match_id': 7208840505, 'player_slot': 0, 'a...    52      9   \n",
       "\n",
       "                                          replay_url  \n",
       "0  http://replay192.valve.net/570/7208840505_1702...  \n",
       "\n",
       "[1 rows x 39 columns]"
      ]
     },
     "execution_count": 10,
     "metadata": {},
     "output_type": "execute_result"
    }
   ],
   "source": [
    "df_mdata = df_mdata.append(pd.DataFrame([data], \n",
    "     columns=columns), \n",
    "     ignore_index=True)\n",
    "df_mdata"
   ]
  },
  {
   "cell_type": "code",
   "execution_count": 11,
   "metadata": {},
   "outputs": [
    {
     "data": {
      "text/plain": [
       "Index(['match_id', 'barracks_status_dire', 'barracks_status_radiant', 'chat',\n",
       "       'cluster', 'cosmetics', 'dire_score', 'dire_team_id', 'draft_timings',\n",
       "       'duration', 'engine', 'first_blood_time', 'game_mode', 'human_players',\n",
       "       'leagueid', 'lobby_type', 'match_seq_num', 'negative_votes',\n",
       "       'objectives', 'picks_bans', 'positive_votes', 'radiant_gold_adv',\n",
       "       'radiant_score', 'radiant_team_id', 'radiant_win', 'radiant_xp_adv',\n",
       "       'skill', 'start_time', 'teamfights', 'tower_status_dire',\n",
       "       'tower_status_radiant', 'version', 'replay_salt', 'series_id',\n",
       "       'series_type', 'players', 'patch', 'region', 'replay_url'],\n",
       "      dtype='object')"
      ]
     },
     "execution_count": 11,
     "metadata": {},
     "output_type": "execute_result"
    }
   ],
   "source": [
    "df_mdata.columns"
   ]
  },
  {
   "cell_type": "code",
   "execution_count": 12,
   "metadata": {},
   "outputs": [
    {
     "data": {
      "text/plain": [
       "0    52\n",
       "Name: patch, dtype: object"
      ]
     },
     "execution_count": 12,
     "metadata": {},
     "output_type": "execute_result"
    }
   ],
   "source": [
    "df_mdata.patch"
   ]
  },
  {
   "cell_type": "code",
   "execution_count": 13,
   "metadata": {},
   "outputs": [
    {
     "data": {
      "text/plain": [
       "{'match_id': 7208840505,\n",
       " 'player_slot': 2,\n",
       " 'ability_targets': None,\n",
       " 'ability_upgrades_arr': [5237,\n",
       "  5238,\n",
       "  5237,\n",
       "  5239,\n",
       "  5237,\n",
       "  5240,\n",
       "  5237,\n",
       "  5239,\n",
       "  5239,\n",
       "  5239,\n",
       "  5240,\n",
       "  850,\n",
       "  5238,\n",
       "  5238,\n",
       "  6512,\n",
       "  5238,\n",
       "  5240],\n",
       " 'ability_uses': None,\n",
       " 'account_id': 198219602,\n",
       " 'actions': None,\n",
       " 'additional_units': None,\n",
       " 'assists': 16,\n",
       " 'backpack_0': 947,\n",
       " 'backpack_1': 0,\n",
       " 'backpack_2': 0,\n",
       " 'backpack_3': None,\n",
       " 'buyback_log': None,\n",
       " 'camps_stacked': None,\n",
       " 'connection_log': None,\n",
       " 'creeps_stacked': None,\n",
       " 'damage': None,\n",
       " 'damage_inflictor': None,\n",
       " 'damage_inflictor_received': None,\n",
       " 'damage_taken': None,\n",
       " 'damage_targets': None,\n",
       " 'deaths': 16,\n",
       " 'denies': 11,\n",
       " 'dn_t': None,\n",
       " 'firstblood_claimed': None,\n",
       " 'gold': 214,\n",
       " 'gold_per_min': 404,\n",
       " 'gold_reasons': None,\n",
       " 'gold_spent': 11885,\n",
       " 'gold_t': None,\n",
       " 'hero_damage': 19565,\n",
       " 'hero_healing': 0,\n",
       " 'hero_hits': None,\n",
       " 'hero_id': 51,\n",
       " 'item_0': 36,\n",
       " 'item_1': 137,\n",
       " 'item_2': 692,\n",
       " 'item_3': 4,\n",
       " 'item_4': 3,\n",
       " 'item_5': 50,\n",
       " 'item_neutral': 358,\n",
       " 'item_uses': None,\n",
       " 'kill_streaks': None,\n",
       " 'killed': None,\n",
       " 'killed_by': None,\n",
       " 'kills': 8,\n",
       " 'kills_log': None,\n",
       " 'lane_pos': None,\n",
       " 'last_hits': 106,\n",
       " 'leaver_status': 0,\n",
       " 'level': 18,\n",
       " 'lh_t': None,\n",
       " 'life_state': None,\n",
       " 'max_hero_hit': None,\n",
       " 'multi_kills': None,\n",
       " 'net_worth': 11614,\n",
       " 'obs': None,\n",
       " 'obs_left_log': None,\n",
       " 'obs_log': None,\n",
       " 'obs_placed': None,\n",
       " 'party_id': 1,\n",
       " 'party_size': 2,\n",
       " 'performance_others': None,\n",
       " 'permanent_buffs': [{'permanent_buff': 5,\n",
       "   'stack_count': 38,\n",
       "   'grant_time': 2114}],\n",
       " 'pings': None,\n",
       " 'pred_vict': None,\n",
       " 'purchase': None,\n",
       " 'purchase_log': None,\n",
       " 'randomed': None,\n",
       " 'repicked': None,\n",
       " 'roshans_killed': None,\n",
       " 'rune_pickups': None,\n",
       " 'runes': None,\n",
       " 'runes_log': None,\n",
       " 'sen': None,\n",
       " 'sen_left_log': None,\n",
       " 'sen_log': None,\n",
       " 'sen_placed': None,\n",
       " 'stuns': None,\n",
       " 'teamfight_participation': None,\n",
       " 'times': None,\n",
       " 'tower_damage': 0,\n",
       " 'towers_killed': None,\n",
       " 'xp_per_min': 503,\n",
       " 'xp_reasons': None,\n",
       " 'xp_t': None,\n",
       " 'personaname': 'gg',\n",
       " 'name': None,\n",
       " 'last_login': None,\n",
       " 'radiant_win': False,\n",
       " 'start_time': 1687293510,\n",
       " 'duration': 2198,\n",
       " 'cluster': 192,\n",
       " 'lobby_type': 7,\n",
       " 'game_mode': 22,\n",
       " 'is_contributor': False,\n",
       " 'patch': 52,\n",
       " 'region': 9,\n",
       " 'isRadiant': True,\n",
       " 'win': 0,\n",
       " 'lose': 1,\n",
       " 'total_gold': 14799,\n",
       " 'total_xp': 18426,\n",
       " 'kills_per_min': 0.2183803457688808,\n",
       " 'kda': 1,\n",
       " 'abandons': 0,\n",
       " 'rank_tier': 34,\n",
       " 'is_subscriber': False,\n",
       " 'cosmetics': [],\n",
       " 'benchmarks': {'gold_per_min': {'raw': 404, 'pct': 0.5},\n",
       "  'xp_per_min': {'raw': 503, 'pct': 0.36666666666666664},\n",
       "  'kills_per_min': {'raw': 0.2183803457688808, 'pct': 0.9},\n",
       "  'last_hits_per_min': {'raw': 2.8935395814376705, 'pct': 0.7333333333333333},\n",
       "  'hero_damage_per_min': {'raw': 534.0764331210191, 'pct': 0.5666666666666667},\n",
       "  'hero_healing_per_min': {'raw': 0, 'pct': 0.6333333333333333},\n",
       "  'tower_damage': {'raw': 0, 'pct': 0.3333333333333333},\n",
       "  'stuns_per_min': {'raw': 0, 'pct': 0},\n",
       "  'lhten': {}}}"
      ]
     },
     "execution_count": 13,
     "metadata": {},
     "output_type": "execute_result"
    }
   ],
   "source": [
    "df_mdata.players[0][2]"
   ]
  },
  {
   "cell_type": "code",
   "execution_count": 14,
   "metadata": {},
   "outputs": [
    {
     "data": {
      "text/plain": [
       "[[('player_slot', 0), ('hero_id', 20)],\n",
       " [('player_slot', 1), ('hero_id', 113)],\n",
       " [('player_slot', 2), ('hero_id', 51)],\n",
       " [('player_slot', 3), ('hero_id', 46)],\n",
       " [('player_slot', 4), ('hero_id', 31)],\n",
       " [('player_slot', 128), ('hero_id', 75)],\n",
       " [('player_slot', 129), ('hero_id', 105)],\n",
       " [('player_slot', 130), ('hero_id', 104)],\n",
       " [('player_slot', 131), ('hero_id', 14)],\n",
       " [('player_slot', 132), ('hero_id', 34)]]"
      ]
     },
     "execution_count": 14,
     "metadata": {},
     "output_type": "execute_result"
    }
   ],
   "source": [
    "mylist = ['hero_id', 'player_slot']\n",
    "heroes_list = []\n",
    "for i in range(10):\n",
    "    foodict = {k: v for k, v in df_mdata.players[0][i].items() if k in mylist}\n",
    "    heroes_list.append(list(foodict.items()))\n",
    "heroes_list"
   ]
  },
  {
   "cell_type": "code",
   "execution_count": 15,
   "metadata": {},
   "outputs": [
    {
     "data": {
      "text/plain": [
       "0"
      ]
     },
     "execution_count": 15,
     "metadata": {},
     "output_type": "execute_result"
    }
   ],
   "source": [
    "df_mdata.players[0][0]['player_slot']"
   ]
  },
  {
   "cell_type": "code",
   "execution_count": 16,
   "metadata": {},
   "outputs": [
    {
     "name": "stdout",
     "output_type": "stream",
     "text": [
      "{1: 'antimage', 2: 'axe', 3: 'bane', 4: 'bloodseeker', 5: 'crystal_maiden', 6: 'drow_ranger', 7: 'earthshaker', 8: 'juggernaut', 9: 'mirana', 11: 'nevermore', 10: 'morphling', 12: 'phantom_lancer', 13: 'puck', 14: 'pudge', 15: 'razor', 16: 'sand_king', 17: 'storm_spirit', 18: 'sven', 19: 'tiny', 20: 'vengefulspirit', 21: 'windrunner', 22: 'zuus', 23: 'kunkka', 25: 'lina', 31: 'lich', 26: 'lion', 27: 'shadow_shaman', 28: 'slardar', 29: 'tidehunter', 30: 'witch_doctor', 32: 'riki', 33: 'enigma', 34: 'tinker', 35: 'sniper', 36: 'necrolyte', 37: 'warlock', 38: 'beastmaster', 39: 'queenofpain', 40: 'venomancer', 41: 'faceless_void', 42: 'skeleton_king', 43: 'death_prophet', 44: 'phantom_assassin', 45: 'pugna', 46: 'templar_assassin', 47: 'viper', 48: 'luna', 49: 'dragon_knight', 50: 'dazzle', 51: 'rattletrap', 52: 'leshrac', 53: 'furion', 54: 'life_stealer', 55: 'dark_seer', 56: 'clinkz', 57: 'omniknight', 58: 'enchantress', 59: 'huskar', 60: 'night_stalker', 61: 'broodmother', 62: 'bounty_hunter', 63: 'weaver', 64: 'jakiro', 65: 'batrider', 66: 'chen', 67: 'spectre', 69: 'doom_bringer', 68: 'ancient_apparition', 70: 'ursa', 71: 'spirit_breaker', 72: 'gyrocopter', 73: 'alchemist', 74: 'invoker', 75: 'silencer', 76: 'obsidian_destroyer', 77: 'lycan', 78: 'brewmaster', 79: 'shadow_demon', 80: 'lone_druid', 81: 'chaos_knight', 82: 'meepo', 83: 'treant', 84: 'ogre_magi', 85: 'undying', 86: 'rubick', 87: 'disruptor', 88: 'nyx_assassin', 89: 'naga_siren', 90: 'keeper_of_the_light', 91: 'wisp', 92: 'visage', 93: 'slark', 94: 'medusa', 95: 'troll_warlord', 96: 'centaur', 97: 'magnataur', 98: 'shredder', 99: 'bristleback', 100: 'tusk', 101: 'skywrath_mage', 102: 'abaddon', 103: 'elder_titan', 104: 'legion_commander', 106: 'ember_spirit', 107: 'earth_spirit', 108: 'abyssal_underlord', 109: 'terrorblade', 110: 'phoenix', 105: 'techies', 111: 'oracle', 112: 'winter_wyvern', 113: 'arc_warden', 114: 'monkey_king', 119: 'dark_willow', 120: 'pangolier', 121: 'grimstroke', 123: 'hoodwink', 126: 'void_spirit', 128: 'snapfire', 129: 'mars', 135: 'dawnbreaker', 136: 'marci', 137: 'primal_beast', 138: 'muerta'}\n"
     ]
    }
   ],
   "source": [
    "with open('heroes.json') as json_file:\n",
    "    data = json.load(json_file)\n",
    "    heroes = data['heroes']\n",
    "    heroid_dict = {}\n",
    "    for i in range(len(heroes)):\n",
    "        heroid_dict[data['heroes'][i]['id']]= data['heroes'][i]['name']\n",
    "\n",
    "print(heroid_dict)"
   ]
  },
  {
   "cell_type": "code",
   "execution_count": 17,
   "metadata": {},
   "outputs": [
    {
     "data": {
      "text/plain": [
       "0"
      ]
     },
     "execution_count": 17,
     "metadata": {},
     "output_type": "execute_result"
    }
   ],
   "source": [
    "heroes_list[0][0][1]"
   ]
  },
  {
   "cell_type": "code",
   "execution_count": 18,
   "metadata": {},
   "outputs": [
    {
     "data": {
      "text/plain": [
       "7208840505"
      ]
     },
     "execution_count": 18,
     "metadata": {},
     "output_type": "execute_result"
    }
   ],
   "source": [
    "df_mdata.match_id[0]"
   ]
  },
  {
   "cell_type": "code",
   "execution_count": 19,
   "metadata": {},
   "outputs": [
    {
     "data": {
      "text/plain": [
       "'88e501ee38f2d60b20de6904933b7b2714d6bee7b36251b8d78d9de7'"
      ]
     },
     "execution_count": 19,
     "metadata": {},
     "output_type": "execute_result"
    }
   ],
   "source": [
    "# match id hash\n",
    "h = hashlib.new('sha224')\n",
    "h.update(bytes(str(7208840505), 'ascii'))\n",
    "h.hexdigest()"
   ]
  },
  {
   "cell_type": "code",
   "execution_count": 20,
   "metadata": {},
   "outputs": [
    {
     "data": {
      "text/plain": [
       "{'match_id': '88e501ee38f2d60b20de6904933b7b2714d6bee7b36251b8d78d9de7',\n",
       " 'radiant_win': False,\n",
       " 'game_mode': 22,\n",
       " 'r_hero1': 20,\n",
       " 'r_hero2': 113,\n",
       " 'r_hero3': 51,\n",
       " 'r_hero4': 46,\n",
       " 'r_hero5': 31,\n",
       " 'd_hero1': 75,\n",
       " 'd_hero2': 105,\n",
       " 'd_hero3': 104,\n",
       " 'd_hero4': 14,\n",
       " 'd_hero5': 34}"
      ]
     },
     "execution_count": 20,
     "metadata": {},
     "output_type": "execute_result"
    }
   ],
   "source": [
    "# match id hash\n",
    "h = hashlib.new('sha224')\n",
    "h.update(bytes(str(df_mdata.match_id[0]), 'utf-8'))\n",
    "match_id_hash = h.hexdigest()\n",
    "\n",
    "# init pred data\n",
    "pred_data= {}\n",
    "pred_data['match_id'] = match_id_hash\n",
    "pred_data['radiant_win'] = df_mdata.radiant_win[0]\n",
    "pred_data['game_mode'] = df_mdata.game_mode[0]\n",
    "\n",
    "# fill pred data\n",
    "for i in range(len(heroes_list)):\n",
    "    count = \"% s\" % (heroes_list[i][0][1]+1)\n",
    "    name_str = 'r_hero' + count\n",
    "    if i > 4:\n",
    "        count = \"% s\" % (heroes_list[i][0][1]+1-128)\n",
    "        name_str = 'd_hero' + count\n",
    "    pred_data[name_str] = heroes_list[i][1][1]\n",
    "\n",
    "\n",
    "#pred_data['patch'] = df_mdata.patch[0]\n",
    "pred_data"
   ]
  },
  {
   "cell_type": "code",
   "execution_count": 21,
   "metadata": {},
   "outputs": [
    {
     "data": {
      "text/plain": [
       "'vengefulspirit'"
      ]
     },
     "execution_count": 21,
     "metadata": {},
     "output_type": "execute_result"
    }
   ],
   "source": [
    "heroid_dict[pred_data['r_hero1']]"
   ]
  },
  {
   "cell_type": "code",
   "execution_count": 22,
   "metadata": {},
   "outputs": [
    {
     "data": {
      "text/html": [
       "<div>\n",
       "<style scoped>\n",
       "    .dataframe tbody tr th:only-of-type {\n",
       "        vertical-align: middle;\n",
       "    }\n",
       "\n",
       "    .dataframe tbody tr th {\n",
       "        vertical-align: top;\n",
       "    }\n",
       "\n",
       "    .dataframe thead th {\n",
       "        text-align: right;\n",
       "    }\n",
       "</style>\n",
       "<table border=\"1\" class=\"dataframe\">\n",
       "  <thead>\n",
       "    <tr style=\"text-align: right;\">\n",
       "      <th></th>\n",
       "      <th>match_id</th>\n",
       "      <th>radiant_win</th>\n",
       "      <th>game_mode</th>\n",
       "      <th>r_hero1</th>\n",
       "      <th>r_hero2</th>\n",
       "      <th>r_hero3</th>\n",
       "      <th>r_hero4</th>\n",
       "      <th>r_hero5</th>\n",
       "      <th>d_hero1</th>\n",
       "      <th>d_hero2</th>\n",
       "      <th>d_hero3</th>\n",
       "      <th>d_hero4</th>\n",
       "      <th>d_hero5</th>\n",
       "    </tr>\n",
       "  </thead>\n",
       "  <tbody>\n",
       "    <tr>\n",
       "      <th>0</th>\n",
       "      <td>88e501ee38f2d60b20de6904933b7b2714d6bee7b36251...</td>\n",
       "      <td>False</td>\n",
       "      <td>22</td>\n",
       "      <td>20</td>\n",
       "      <td>113</td>\n",
       "      <td>51</td>\n",
       "      <td>46</td>\n",
       "      <td>31</td>\n",
       "      <td>75</td>\n",
       "      <td>105</td>\n",
       "      <td>104</td>\n",
       "      <td>14</td>\n",
       "      <td>34</td>\n",
       "    </tr>\n",
       "  </tbody>\n",
       "</table>\n",
       "</div>"
      ],
      "text/plain": [
       "                                            match_id  radiant_win  game_mode  \\\n",
       "0  88e501ee38f2d60b20de6904933b7b2714d6bee7b36251...        False         22   \n",
       "\n",
       "   r_hero1  r_hero2  r_hero3  r_hero4  r_hero5  d_hero1  d_hero2  d_hero3  \\\n",
       "0       20      113       51       46       31       75      105      104   \n",
       "\n",
       "   d_hero4  d_hero5  \n",
       "0       14       34  "
      ]
     },
     "execution_count": 22,
     "metadata": {},
     "output_type": "execute_result"
    }
   ],
   "source": [
    "preds_df = pd.DataFrame([pred_data])\n",
    "preds_df"
   ]
  },
  {
   "cell_type": "code",
   "execution_count": 23,
   "metadata": {},
   "outputs": [
    {
     "data": {
      "text/plain": [
       "['match_id',\n",
       " 'radiant_win',\n",
       " 'game_mode',\n",
       " 'r_hero1',\n",
       " 'r_hero2',\n",
       " 'r_hero3',\n",
       " 'r_hero4',\n",
       " 'r_hero5',\n",
       " 'd_hero1',\n",
       " 'd_hero2',\n",
       " 'd_hero3',\n",
       " 'd_hero4',\n",
       " 'd_hero5']"
      ]
     },
     "execution_count": 23,
     "metadata": {},
     "output_type": "execute_result"
    }
   ],
   "source": [
    "list(pred_data.keys())"
   ]
  },
  {
   "cell_type": "code",
   "execution_count": 24,
   "metadata": {},
   "outputs": [],
   "source": [
    "preds_df.to_csv(index=False)\n",
    "with open('pred_data.csv','w') as csvfile:\n",
    "    fieldnames = list(pred_data.keys())\n",
    "    writer = csv.DictWriter(csvfile, fieldnames=fieldnames,dialect='excel',lineterminator='\\n')\n",
    "    writer.writeheader()\n",
    "    csvfile.close()"
   ]
  },
  {
   "cell_type": "code",
   "execution_count": 25,
   "metadata": {},
   "outputs": [],
   "source": [
    "matches100 = matchrequest.getPublicMatches()"
   ]
  },
  {
   "cell_type": "code",
   "execution_count": 29,
   "metadata": {},
   "outputs": [],
   "source": [
    "features =  ['match_id', 'radiant_win', 'game_mode']\n",
    "data = []\n",
    "for i in range(len(matches100)):\n",
    "    if matches100[i]['game_mode'] != 22:\n",
    "        continue\n",
    "\n",
    "    preds_data = {k: v for k, v in matches100[i].items() if k in features}\n",
    "\n",
    "    for j in range(len(matches100[0]['radiant_team'].split(\",\"))):\n",
    "        hero = 'r_hero' + \"% s\" % (j + 1)\n",
    "        preds_data[hero] = matches100[i]['dire_team'].split(\",\")[j]\n",
    "\n",
    "    for j in range(len(matches100[0]['dire_team'].split(\",\"))):\n",
    "        hero = 'd_hero' + \"% s\" % (j + 1)\n",
    "        preds_data[hero] = matches100[i]['dire_team'].split(\",\")[j]    \n",
    "\n",
    "    data.append(preds_data)"
   ]
  },
  {
   "cell_type": "code",
   "execution_count": 32,
   "metadata": {},
   "outputs": [],
   "source": [
    "with open('train_data.csv','w') as csvfile:\n",
    "    fieldnames = list(data[0].keys())\n",
    "    writer = csv.DictWriter(csvfile, fieldnames=fieldnames,dialect='excel',lineterminator='\\n')\n",
    "    writer.writeheader()\n",
    "    csvfile.close()\n",
    "\n",
    "with open('test_data.csv','w') as csvfile:\n",
    "    fieldnames = list(data[0].keys())\n",
    "    writer = csv.DictWriter(csvfile, fieldnames=fieldnames,dialect='excel',lineterminator='\\n')\n",
    "    writer.writeheader()\n",
    "    csvfile.close()"
   ]
  },
  {
   "cell_type": "code",
   "execution_count": 33,
   "metadata": {},
   "outputs": [],
   "source": [
    "preds_df.to_csv(index=False)\n",
    "with open('test_data.csv','a') as csvfile:\n",
    "    fieldnames = list(data[0].keys())\n",
    "    writer = csv.DictWriter(csvfile, fieldnames=fieldnames,dialect='excel',lineterminator='\\n')\n",
    "\n",
    "    features =  ['match_id', 'radiant_win', 'game_mode']\n",
    "    for i in range(100):\n",
    "        mathces100 = matchrequest.getPublicMatches()\n",
    "        data = utils.getMatchData(matches100, features)\n",
    "        for j in range(len(data)):\n",
    "            writer.writerow(data[j])\n",
    "    csvfile.close()"
   ]
  }
 ],
 "metadata": {
  "kernelspec": {
   "display_name": "tf-gpu",
   "language": "python",
   "name": "python3"
  },
  "language_info": {
   "codemirror_mode": {
    "name": "ipython",
    "version": 3
   },
   "file_extension": ".py",
   "mimetype": "text/x-python",
   "name": "python",
   "nbconvert_exporter": "python",
   "pygments_lexer": "ipython3",
   "version": "3.10.9"
  },
  "orig_nbformat": 4
 },
 "nbformat": 4,
 "nbformat_minor": 2
}
